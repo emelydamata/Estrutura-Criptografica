{
 "cells": [
  {
   "cell_type": "markdown",
   "metadata": {},
   "source": [
    "# Solução Para o Trabalho Prático 01  <h1>"
   ]
  },
  {
   "cell_type": "markdown",
   "metadata": {},
   "source": [
    "## Problema 01:<h3>    \n",
    "Este problema trata-se da construção de uma sessão síncrona de comunicação segura entre dois agentes (Emitter e Receiver), onde nós:\n",
    "1. Implementamos um gerador de nounces, que cria aleatoriamente um nonce que não foi utilizado ainda, em cada instância da comunicação;\n",
    "2. A implementação da cifra AES, autenticando cada criptograma com HMAC e um modo seguro contra ataques aos IV's;\n",
    "3. Uso do protocolo de acordo de chaves Diffie-Hellman, verificação da chave, e autenticação dos agentes a partir de um esquema de assinaturas DSA.\n",
    "    "
   ]
  },
  {
   "cell_type": "code",
   "execution_count": 2,
   "metadata": {},
   "outputs": [],
   "source": [
    "import io, os, time\n",
    "from multiprocessing import set_start_method, Pipe, Process\n",
    "from cryptography.hazmat.backends import default_backend\n",
    "from cryptography.hazmat.primitives import hashes, hmac\n",
    "from cryptography.hazmat.primitives.asymmetric import dh, dsa\n",
    "from cryptography.hazmat.primitives.kdf.hkdf import HKDF\n",
    "from cryptography.hazmat.primitives.ciphers import (Cipher, algorithms, modes)\n",
    "import cryptography.exceptions\n",
    "\n",
    "buffer_size = 4096\n",
    "msg_size = 1024"
   ]
  },
  {
   "cell_type": "markdown",
   "metadata": {},
   "source": [
    "**Implementação da Função Derive**<br>\n",
    "Esta função deriva a chave partilhada gerada pelo DH de forma a quebrar a esturura presente, adicionar informação e, se necessário, derivar várias chaves."
   ]
  },
  {
   "cell_type": "code",
   "execution_count": null,
   "metadata": {},
   "outputs": [],
   "source": [
    "def derive(shared_key):\n",
    "    derived_key = HKDF(\n",
    "        algorithm=hashes.SHA256(),\n",
    "        length=32,\n",
    "        salt=None,\n",
    "        info=b'handshake data',\n",
    "        backend=default_backend(),\n",
    "    ).derive(shared_key)\n",
    "    return derived_key"
   ]
  },
  {
   "cell_type": "markdown",
   "metadata": {},
   "source": [
    "**Implementação do Encrypt e Decrypt**<br>\n",
    "Estas funções implementam o AES em modo CTR para cifrar e decifrar conforme necessário.<br>\n",
    "As duas motivações para a escolha do modo são o facto do CTR ser facilmente paralelizável e também não precisar de padding. "
   ]
  },
  {
   "cell_type": "code",
   "execution_count": null,
   "metadata": {},
   "outputs": [],
   "source": [
    "def encrypt(key, iv, plaintext):\n",
    "    # inicialização\n",
    "    encryptor = Cipher(\n",
    "        algorithms.AES(key),\n",
    "        modes.CTR(iv),\n",
    "        backend=default_backend(),\n",
    "    ).encryptor()\n",
    "    \n",
    "    # cifrar a mensagem\n",
    "    return encryptor.update(plaintext)"
   ]
  },
  {
   "cell_type": "code",
   "execution_count": null,
   "metadata": {},
   "outputs": [],
   "source": [
    "def decrypt(key, iv, ciphertext):\n",
    "    # inicialização\n",
    "    decryptor = Cipher(\n",
    "        algorithms.AES(key),\n",
    "        modes.CTR(iv),\n",
    "        backend=default_backend(),\n",
    "    ).decryptor()\n",
    "\n",
    "    # decifrar a mensagem\n",
    "    return decryptor.update(ciphertext)"
   ]
  },
  {
   "cell_type": "markdown",
   "metadata": {},
   "source": [
    "**Implementação da Assinatura e Validação para o DSA**<br>\n",
    "A assinatura e a validação usam os métodos existente e no caso da validação lidamos com assinaturas inválidas."
   ]
  },
  {
   "cell_type": "code",
   "execution_count": null,
   "metadata": {},
   "outputs": [],
   "source": [
    "def sign_message(key, message):\n",
    "    return key.sign(message, hashes.SHA256())"
   ]
  },
  {
   "cell_type": "code",
   "execution_count": null,
   "metadata": {},
   "outputs": [],
   "source": [
    "def validate_signature(key, message, signature):\n",
    "    try:\n",
    "        key.verify(signature, message, hashes.SHA256())\n",
    "    except InvalidSignature:\n",
    "        return False\n",
    "    return True  "
   ]
  },
  {
   "cell_type": "markdown",
   "metadata": {},
   "source": [
    "**Implementação do HMAC** <br>\n",
    "Aqui usamos a SHA256 para gerar o HMAC de cada mensagem. <br>\n",
    "Do lado do recetor geramos o HMAC esperado e comparamos com o recebido."
   ]
  },
  {
   "cell_type": "code",
   "execution_count": null,
   "metadata": {},
   "outputs": [],
   "source": [
    "def get_hmac(key, message):\n",
    "    h = hmac.HMAC(key, hashes.SHA256(), backend=default_backend())\n",
    "    h.update(message)\n",
    "    return h.finalize()"
   ]
  },
  {
   "cell_type": "code",
   "execution_count": null,
   "metadata": {},
   "outputs": [],
   "source": [
    "def validate_hmac(key, message, signature):\n",
    "    try:\n",
    "        h = hmac.HMAC(key, hashes.SHA256(), backend=default_backend())\n",
    "        h.update(message)\n",
    "        h.verify(signature)\n",
    "    except InvalidSignature:\n",
    "        return False\n",
    "    return True    "
   ]
  },
  {
   "cell_type": "markdown",
   "metadata": {},
   "source": [
    "**Preparação da Mensagagem**<br>\n",
    "Cada mensagem transmitida é da forma m1 = len(signature) || iv || signature || c <br>\n",
    "O IV é gerado aleatóriamente para cada mensagem. <br> \n",
    "O c é obtido ao cifrar o texto limpo usando a chave derivada e o IV. <br>\n",
    "A assinatura é aplicada ao texto limpo de forma a ser essa a mensagem a ser assinada pelo emissor e não o criptograma ou afins. <br>\n",
    "Por fim geramos o HMAC de m1 e fazemos m2 = hmac(m1) || m1, assim não só o criptograma é autenticado mas também o resto da mensagem enviada. <br>\n",
    "A mensagem final tem comprimento variável com o máximo de 4096 bytes, tendo em conta que o texto limpo tem tamanho máximo de 1024 bytes de forma a não haver problema nenhum. <br>\n",
    "len(m2) = 32 (hmac) + 1 (len(signature)) + 16 + len(signature) + len(c)"
   ]
  },
  {
   "cell_type": "code",
   "execution_count": null,
   "metadata": {},
   "outputs": [],
   "source": [
    "def prepare_bundle(key, message, dsa_key):\n",
    "    # gerar o nonce\n",
    "    iv = os.urandom(16)\n",
    "    # obtenção do criptograma\n",
    "    ct = encrypt(key, iv, message)\n",
    "    # assinatura do texto limpo\n",
    "    signature = sign_message(dsa_key, message)\n",
    "    # junção do iv, assinatura e criptograma\n",
    "    pre_bundle = len(signature).to_bytes(1,'little') + iv + signature + ct\n",
    "    # 'prepending' do hmac\n",
    "    bundle = get_hmac(key, pre_bundle) + pre_bundle \n",
    "    return bundle    "
   ]
  },
  {
   "cell_type": "markdown",
   "metadata": {},
   "source": [
    "**Descrição da Execução do Emitter e Receiver**<br>\n",
    "Para ser mais fácil de digerir a explicação será documentada no código do Emitter.<br>\n",
    "O código do Receiver é semelhante mas: troca a ordem da inserção da mensagem e receção; em vez de se inserir uma mensagem é nos enviado um 'ok'."
   ]
  },
  {
   "cell_type": "code",
   "execution_count": null,
   "metadata": {},
   "outputs": [],
   "source": [
    "def execucaoemitter(conn, private_key, receiver_public_key, private_dsa_key, receiver_dsa_key):\n",
    "    # gerar a chave combinada usando a chave pública do receiver\n",
    "    shared_key = private_key.exchange(receiver_public_key)\n",
    "    # derivar a chave \n",
    "    derived_key = derive(shared_key)    \n",
    "    \n",
    "    while True:\n",
    "        # primeiro o emitter insire uma mensagem\n",
    "        msg = input('Emitter: ').encode()\n",
    "        # se uma das mensagens tiver o comprimento da sua representação em bytes maior que o definido a comunicação é encerrada \n",
    "        if len(msg) > msg_size:\n",
    "            break\n",
    "        # obtenção da mensagem pronta a enviar\n",
    "        bundle = prepare_bundle(derived_key, msg, private_dsa_key)\n",
    "        # envio da mensagem\n",
    "        conn.send(bundle)\n",
    "        try:\n",
    "            # preparação do buffer para receber a mensagem (importante para não ficarem restos da mensagem anterior)\n",
    "            buffer = bytearray(buffer_size)\n",
    "            # receção da mensagem\n",
    "            buffer = conn.recv()\n",
    "            # hmac da menssagem recebida \n",
    "            mac = buffer[0:32]\n",
    "            # resto da mensagem recebida\n",
    "            pre_bundle = buffer[32:]\n",
    "            # se o hmac for válido prosseguimos para o resto do processo\n",
    "            if validate_hmac(derived_key, pre_bundle, mac):\n",
    "                # comprimento da assinatura (0..256) (possível que seja necessário mais que um byte para chaves de assinatura maiores)\n",
    "                sig_len = pre_bundle[0]\n",
    "                # proximos 16 bytes são o iv\n",
    "                iv = pre_bundle[1:17]\n",
    "                # a seguir temos sig_len bytes de assinatura\n",
    "                signature = pre_bundle[17:17 + sig_len]\n",
    "                # por fim temos o criptograma\n",
    "                ct = pre_bundle[17 + sig_len:]\n",
    "                # deciframos o criptograma\n",
    "                plain_text = decrypt(derived_key, iv, ct)\n",
    "                # e por fim verificamos a assinatura (em vida real iriamos guardá-la junto com a mensagem)\n",
    "                if validate_signature(receiver_dsa_key, plain_text, signature):\n",
    "                    print('Emitter got: ', plain_text.decode())\n",
    "                else:\n",
    "                    print('Emitter got bad signature!')\n",
    "                    break\n",
    "            else:\n",
    "                print('Emitter got bad MAC!')\n",
    "                break\n",
    "        except EOFError:\n",
    "            break    \n",
    "    conn.close()\n",
    "    inputs.close()   "
   ]
  },
  {
   "cell_type": "code",
   "execution_count": null,
   "metadata": {},
   "outputs": [],
   "source": [
    "def execucaoreceiver(conn, private_key, emitter_public_key, private_dsa_key, emitter_dsa_key):\n",
    "    # gerar a chave combinada\n",
    "    shared_key = private_key.exchange(emitter_public_key)\n",
    "    # derivar a chave \n",
    "    derived_key = derive(shared_key)\n",
    "    \n",
    "    while True:\n",
    "        try:\n",
    "            buffer = bytearray(buffer_size)\n",
    "            buffer = conn.recv()\n",
    "            mac = buffer[0:32]\n",
    "            pre_bundle = buffer[32:]\n",
    "            if validate_hmac(derived_key, pre_bundle, mac):\n",
    "                iv = pre_bundle[1:17]\n",
    "                sig_len = pre_bundle[0]\n",
    "                signature = pre_bundle[17:17 + sig_len]\n",
    "                ct = pre_bundle[17 + sig_len:]\n",
    "                plain_text = decrypt(derived_key, iv, ct)\n",
    "                if validate_signature(emitter_dsa_key, plain_text, signature):\n",
    "                    print('Receiver got: ', plain_text.decode())\n",
    "                else:\n",
    "                    print('Receiver got bad signature!')\n",
    "                    break\n",
    "            else:\n",
    "                print('Receiver got bad MAC!')\n",
    "                break\n",
    "        except EOFError:\n",
    "            break\n",
    "        msg = \"ok\"\n",
    "        msg = msg.encode()\n",
    "        if len(msg) > msg_size:\n",
    "            break\n",
    "        bundle = prepare_bundle(derived_key, msg, private_dsa_key)\n",
    "        conn.send(bundle)\n",
    "    conn.close()"
   ]
  },
  {
   "cell_type": "markdown",
   "metadata": {},
   "source": [
    "**Inicialização do Processo**"
   ]
  },
  {
   "cell_type": "code",
   "execution_count": null,
   "metadata": {},
   "outputs": [],
   "source": [
    "try:\n",
    "    set_start_method('fork')     ## a alteração principal\n",
    "except:\n",
    "    pass\n",
    "\n",
    "receiver_conn, emitter_conn = Pipe()\n",
    "\n",
    "# parametros para os pares de chaves\n",
    "parameters = dh.generate_parameters(generator=2, key_size=2048, backend=default_backend())\n",
    "\n",
    "# par de chaves do emitter\n",
    "emitter_private_key = parameters.generate_private_key()\n",
    "# chave publica do emitter\n",
    "emitter_public_key = emitter_private_key.public_key()\n",
    "\n",
    "# par de chaves do receiver\n",
    "receiver_private_key = parameters.generate_private_key()\n",
    "# chave publica do receiver\n",
    "receiver_public_key = receiver_private_key.public_key()\n",
    "\n",
    "# par de chaves dsa do emitter\n",
    "emitter_private_dsa_key = dsa.generate_private_key(key_size=2048, backend=default_backend())\n",
    "# chave publica dsa do emitter\n",
    "emitter_public_dsa_key = emitter_private_dsa_key.public_key()\n",
    "\n",
    "# par de chaves dsa do receiver\n",
    "receiver_private_dsa_key = dsa.generate_private_key(key_size=2048, backend=default_backend())\n",
    "# chave publica dsa do receiver\n",
    "receiver_public_dsa_key = receiver_private_dsa_key.public_key()\n",
    "\n",
    "q = Process(target=execucaoreceiver, args=(receiver_conn, receiver_private_key, emitter_public_key, receiver_private_dsa_key, emitter_public_dsa_key,))\n",
    "\n",
    "q.start()\n",
    "execucaoemitter(emitter_conn, emitter_private_key, receiver_public_key, emitter_private_dsa_key, receiver_public_dsa_key)\n",
    "\n",
    "q.join(timeout=120)"
   ]
  }
 ],
 "metadata": {
  "kernelspec": {
   "display_name": "Python 3",
   "language": "python",
   "name": "python3"
  },
  "language_info": {
   "codemirror_mode": {
    "name": "ipython",
    "version": 3
   },
   "file_extension": ".py",
   "mimetype": "text/x-python",
   "name": "python",
   "nbconvert_exporter": "python",
   "pygments_lexer": "ipython3",
   "version": "3.7.10"
  }
 },
 "nbformat": 4,
 "nbformat_minor": 4
}
