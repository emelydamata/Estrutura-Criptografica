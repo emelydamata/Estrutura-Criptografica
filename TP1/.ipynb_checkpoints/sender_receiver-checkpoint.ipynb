{
 "cells": [
  {
   "cell_type": "code",
   "execution_count": 1,
   "metadata": {},
   "outputs": [],
   "source": [
    "import io, os\n",
    "from multiprocessing import set_start_method, Pipe, Process\n",
    "\n",
    "buffer_size = 16             ## tamanho dos buffers em bytes = bloco AES\n",
    "N = 16 * buffer_size         ## número de bytes do input"
   ]
  },
  {
   "cell_type": "code",
   "execution_count": 2,
   "metadata": {},
   "outputs": [],
   "source": [
    "def sender(conn):\n",
    "    # input stream\n",
    "    inputs = io.BytesIO(bytes('1'* N,'utf-8'))\n",
    "\n",
    "    buffer = bytearray(buffer_size)\n",
    "    while inputs.readinto(buffer):\n",
    "        conn.send(bytes(buffer))\n",
    "        assert 'ok' == conn.recv()      ## para garantir que o receiver recebeu o valor correto\n",
    "    \n",
    "    conn.close()\n",
    "    inputs.close()\n",
    "    "
   ]
  },
  {
   "cell_type": "code",
   "execution_count": 3,
   "metadata": {},
   "outputs": [],
   "source": [
    "def receiver(conn):\n",
    "    buffer  = bytearray(buffer_size)\n",
    "    while True:\n",
    "        try:\n",
    "            buffer = conn.recv()\n",
    "        except EOFError:\n",
    "            break\n",
    "        conn.send('ok')            ## pode ser qualquer resposta; está aqui para garantir o sincronismo\n",
    "        print(bytes(buffer))       \n",
    "    conn.close()\n",
    "    "
   ]
  },
  {
   "cell_type": "code",
   "execution_count": 4,
   "metadata": {},
   "outputs": [
    {
     "name": "stdout",
     "output_type": "stream",
     "text": [
      "b'1111111111111111'\n",
      "b'1111111111111111'\n",
      "b'1111111111111111'\n",
      "b'1111111111111111'\n",
      "b'1111111111111111'\n",
      "b'1111111111111111'\n",
      "b'1111111111111111'\n",
      "b'1111111111111111'\n",
      "b'1111111111111111'\n",
      "b'1111111111111111'\n",
      "b'1111111111111111'\n",
      "b'1111111111111111'\n",
      "b'1111111111111111'\n",
      "b'1111111111111111'\n",
      "b'1111111111111111'\n",
      "b'1111111111111111'\n"
     ]
    }
   ],
   "source": [
    "## GO\n",
    "try:\n",
    "    set_start_method('fork')     ## a alteração principal\n",
    "except:\n",
    "    pass\n",
    "\n",
    "receiver_conn, sender_conn = Pipe()\n",
    "\n",
    "p = Process(target=sender, args=(sender_conn,))\n",
    "q = Process(target=receiver, args=(receiver_conn,))\n",
    "\n",
    "p.start()\n",
    "q.start()\n",
    "\n",
    "p.join(timeout=20)\n",
    "q.join(timeout=20)"
   ]
  },
  {
   "cell_type": "code",
   "execution_count": null,
   "metadata": {},
   "outputs": [],
   "source": []
  }
 ],
 "metadata": {
  "kernelspec": {
   "display_name": "Python 3",
   "language": "python",
   "name": "python3"
  },
  "language_info": {
   "codemirror_mode": {
    "name": "ipython",
    "version": 3
   },
   "file_extension": ".py",
   "mimetype": "text/x-python",
   "name": "python",
   "nbconvert_exporter": "python",
   "pygments_lexer": "ipython3",
   "version": "3.8.5"
  }
 },
 "nbformat": 4,
 "nbformat_minor": 4
}
