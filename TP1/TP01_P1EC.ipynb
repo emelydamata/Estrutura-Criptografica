{
 "cells": [
  {
   "cell_type": "markdown",
   "metadata": {},
   "source": [
    "# Solução Para o Trabalho Prático 01  <h1>"
   ]
  },
  {
   "cell_type": "markdown",
   "metadata": {},
   "source": [
    "## Problema 01:<h3>\n",
    "    \n",
    "    4. Criação de uma versão do esquema anterior, no protocolo de acordo de chaves, que usa curvas elípticas substituindo o DH  pelo ECDH e o DSA pelo ECDSA:"
   ]
  },
  {
   "cell_type": "code",
   "execution_count": 1,
   "metadata": {},
   "outputs": [],
   "source": [
    "\"\"\" Imports Necessários para as implementações \"\"\"\n",
    "\n",
    "import io, os, time\n",
    "from multiprocessing import set_start_method, Pipe, Process\n",
    "from cryptography.hazmat.backends import default_backend\n",
    "from cryptography.hazmat.primitives import hashes, hmac\n",
    "from cryptography.hazmat.primitives.asymmetric import dh, dsa, ec\n",
    "from cryptography.hazmat.primitives.kdf.hkdf import HKDF\n",
    "from cryptography.hazmat.primitives.ciphers import (Cipher, algorithms, modes)\n",
    "import cryptography.exceptions\n",
    "\n",
    "buffer_size = 4096\n",
    "msg_size = 1024"
   ]
  },
  {
   "cell_type": "markdown",
   "metadata": {},
   "source": [
    "**descrição**"
   ]
  },
  {
   "cell_type": "code",
   "execution_count": 2,
   "metadata": {},
   "outputs": [],
   "source": [
    "def derive(shared_key):\n",
    "    derived_key = HKDF(\n",
    "        algorithm=hashes.SHA256(),\n",
    "        length=32,\n",
    "        salt=None,\n",
    "        info=b'handshake data',\n",
    "        backend=default_backend(),\n",
    "    ).derive(shared_key)\n",
    "    return derived_key"
   ]
  },
  {
   "cell_type": "markdown",
   "metadata": {},
   "source": [
    "**Implementação das funções de Encrypt e Decrypt**\n",
    "\n"
   ]
  },
  {
   "cell_type": "code",
   "execution_count": 3,
   "metadata": {},
   "outputs": [],
   "source": [
    "def encrypt(key, iv, plaintext):\n",
    "    # inicialização\n",
    "    encryptor = Cipher(\n",
    "        algorithms.AES(key),\n",
    "        modes.CTR(iv),\n",
    "        backend=default_backend(),\n",
    "    ).encryptor()\n",
    "    \n",
    "    # cifrar a mensagem\n",
    "    return encryptor.update(plaintext)"
   ]
  },
  {
   "cell_type": "code",
   "execution_count": 4,
   "metadata": {},
   "outputs": [],
   "source": [
    "def decrypt(key, iv, ciphertext):\n",
    "    # inicialização\n",
    "    decryptor = Cipher(\n",
    "        algorithms.AES(key),\n",
    "        modes.CTR(iv),\n",
    "        backend=default_backend(),\n",
    "    ).decryptor()\n",
    "\n",
    "    # decifrar a mensagem\n",
    "    return decryptor.update(ciphertext)"
   ]
  },
  {
   "cell_type": "markdown",
   "metadata": {},
   "source": [
    "**assinatura e validação:**"
   ]
  },
  {
   "cell_type": "code",
   "execution_count": 5,
   "metadata": {},
   "outputs": [],
   "source": [
    "def sign_message(key, message):\n",
    "    return key.sign(message, ec.ECDSA(hashes.SHA256()))"
   ]
  },
  {
   "cell_type": "code",
   "execution_count": 6,
   "metadata": {},
   "outputs": [],
   "source": [
    "def validate_signature(key, message, signature):\n",
    "    try:\n",
    "        key.verify(signature, message, ec.ECDSA(hashes.SHA256()))\n",
    "    except InvalidSignature:\n",
    "        return False\n",
    "    return True  "
   ]
  },
  {
   "cell_type": "markdown",
   "metadata": {},
   "source": [
    "**implementação do mac**"
   ]
  },
  {
   "cell_type": "code",
   "execution_count": 7,
   "metadata": {},
   "outputs": [],
   "source": [
    "def get_hmac(key, message):\n",
    "    h = hmac.HMAC(key, hashes.SHA256(), backend=default_backend())\n",
    "    h.update(message)\n",
    "    return h.finalize()"
   ]
  },
  {
   "cell_type": "code",
   "execution_count": 8,
   "metadata": {},
   "outputs": [],
   "source": [
    "def validate_hmac(key, message, signature):\n",
    "    try:\n",
    "        h = hmac.HMAC(key, hashes.SHA256(), backend=default_backend())\n",
    "        h.update(message)\n",
    "        h.verify(signature)\n",
    "    except InvalidSignature:\n",
    "        return False\n",
    "    return True    "
   ]
  },
  {
   "cell_type": "markdown",
   "metadata": {},
   "source": [
    "**descrição**"
   ]
  },
  {
   "cell_type": "code",
   "execution_count": 9,
   "metadata": {},
   "outputs": [],
   "source": [
    "def prepare_bundle(key, message, dsa_key):\n",
    "    # gerar o nonce\n",
    "    iv = os.urandom(16)\n",
    "    # obtenção do criptograma\n",
    "    ct = encrypt(key, iv, message)\n",
    "    # assinatura do criptograma\n",
    "    signature = sign_message(dsa_key, message)\n",
    "    # junção do iv, assinatura e criptograma\n",
    "    pre_bundle = len(signature).to_bytes(1,'little') + iv + signature + ct\n",
    "    # 'prepending' do hmac\n",
    "    bundle = get_hmac(key, pre_bundle) + pre_bundle \n",
    "    return bundle    "
   ]
  },
  {
   "cell_type": "markdown",
   "metadata": {},
   "source": [
    "**Execução do EMITTER:**"
   ]
  },
  {
   "cell_type": "code",
   "execution_count": 10,
   "metadata": {},
   "outputs": [],
   "source": [
    "def execucaoemitter(conn, private_key, receiver_public_key, private_dsa_key, receiver_dsa_key):\n",
    "    # gerar a chave combinada\n",
    "    shared_key = private_key.exchange(ec.ECDH(), receiver_public_key)\n",
    "    # derivar a chave \n",
    "    derived_key = derive(shared_key)    \n",
    "    \n",
    "    while True:\n",
    "        msg = input('Emitter: ').encode()\n",
    "        if len(msg) > msg_size:\n",
    "            break\n",
    "        bundle = prepare_bundle(derived_key, msg, private_dsa_key)\n",
    "        conn.send(bundle)\n",
    "        try:\n",
    "            buffer = bytearray(buffer_size)\n",
    "            buffer = conn.recv()\n",
    "            mac = buffer[0:32]\n",
    "            pre_bundle = buffer[32:]\n",
    "            if validate_hmac(derived_key, pre_bundle, mac):\n",
    "                iv = pre_bundle[1:17]\n",
    "                sig_len = pre_bundle[0]\n",
    "                signature = pre_bundle[17:17 + sig_len]\n",
    "                ct = pre_bundle[17 + sig_len:]\n",
    "                plain_text = decrypt(derived_key, iv, ct)\n",
    "                if validate_signature(receiver_dsa_key, plain_text, signature):\n",
    "                    print('Emitter got: ', plain_text.decode())\n",
    "                else:\n",
    "                    print('Emitter got bad signature!')\n",
    "                    break\n",
    "            else:\n",
    "                print('Emitter got bad MAC!')\n",
    "                break\n",
    "        except EOFError:\n",
    "            break    \n",
    "    conn.close()\n",
    "    inputs.close()   "
   ]
  },
  {
   "cell_type": "markdown",
   "metadata": {},
   "source": [
    "**Execução do EMITTER:**"
   ]
  },
  {
   "cell_type": "code",
   "execution_count": 11,
   "metadata": {},
   "outputs": [],
   "source": [
    "def execucaoreceiver(conn, private_key, emitter_public_key, private_dsa_key, emitter_dsa_key):\n",
    "    # gerar a chave combinada\n",
    "    shared_key = private_key.exchange(ec.ECDH(), emitter_public_key)\n",
    "    # derivar a chave \n",
    "    derived_key = derive(shared_key)\n",
    "    \n",
    "    while True:\n",
    "        try:\n",
    "            buffer = bytearray(buffer_size)\n",
    "            buffer = conn.recv()\n",
    "            mac = buffer[0:32]\n",
    "            pre_bundle = buffer[32:]\n",
    "            if validate_hmac(derived_key, pre_bundle, mac):\n",
    "                iv = pre_bundle[1:17]\n",
    "                sig_len = pre_bundle[0]\n",
    "                signature = pre_bundle[17:17 + sig_len]\n",
    "                ct = pre_bundle[17 + sig_len:]\n",
    "                plain_text = decrypt(derived_key, iv, ct)\n",
    "                if validate_signature(emitter_dsa_key, plain_text, signature):\n",
    "                    print('Receiver got: ', plain_text.decode())\n",
    "                else:\n",
    "                    print('Receiver got bad signature!')\n",
    "                    break\n",
    "            else:\n",
    "                print('Receiver got bad MAC!')\n",
    "                break\n",
    "        except EOFError:\n",
    "            break\n",
    "        msg = \"ok\"\n",
    "        msg = msg.encode()\n",
    "        if len(msg) > msg_size:\n",
    "            break\n",
    "        bundle = prepare_bundle(derived_key, msg, private_dsa_key)\n",
    "        conn.send(bundle)\n",
    "    conn.close()"
   ]
  },
  {
   "cell_type": "code",
   "execution_count": null,
   "metadata": {},
   "outputs": [],
   "source": [
    "try:\n",
    "    set_start_method('fork')     ## a alteração principal\n",
    "except:\n",
    "    pass\n",
    "\n",
    "receiver_conn, emitter_conn = Pipe()\n",
    "\n",
    "# par de chaves do emitter\n",
    "emitter_private_key = ec.generate_private_key(ec.SECP384R1(), backend=default_backend())\n",
    "# chave publica do emitter\n",
    "emitter_public_key = emitter_private_key.public_key()\n",
    "\n",
    "# par de chaves do receiver\n",
    "receiver_private_key = ec.generate_private_key(ec.SECP384R1(), backend=default_backend())\n",
    "# chave publica do receiver\n",
    "receiver_public_key = receiver_private_key.public_key()\n",
    "\n",
    "# par de chaves dsa do emitter\n",
    "emitter_private_dsa_key = ec.generate_private_key(ec.SECP384R1(), backend=default_backend())\n",
    "# chave publica dsa do emitter\n",
    "emitter_public_dsa_key = emitter_private_dsa_key.public_key()\n",
    "\n",
    "# par de chaves dsa do receiver\n",
    "receiver_private_dsa_key = ec.generate_private_key(ec.SECP384R1(), backend=default_backend())\n",
    "# chave publica dsa do receiver\n",
    "receiver_public_dsa_key = receiver_private_dsa_key.public_key()\n",
    "\n",
    "q = Process(target=execucaoreceiver, args=(receiver_conn, receiver_private_key, emitter_public_key, receiver_private_dsa_key, emitter_public_dsa_key,))\n",
    "\n",
    "q.start()\n",
    "execucaoemitter(emitter_conn, emitter_private_key, receiver_public_key, emitter_private_dsa_key, receiver_public_dsa_key)\n",
    "\n",
    "q.join(timeout=120)"
   ]
  }
 ],
 "metadata": {
  "kernelspec": {
   "display_name": "Python 3",
   "language": "python",
   "name": "python3"
  },
  "language_info": {
   "codemirror_mode": {
    "name": "ipython",
    "version": 3
   },
   "file_extension": ".py",
   "mimetype": "text/x-python",
   "name": "python",
   "nbconvert_exporter": "python",
   "pygments_lexer": "ipython3",
   "version": "3.7.10"
  }
 },
 "nbformat": 4,
 "nbformat_minor": 4
}
