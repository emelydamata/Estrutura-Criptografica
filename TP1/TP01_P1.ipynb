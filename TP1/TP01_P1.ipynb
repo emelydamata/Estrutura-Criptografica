{
 "cells": [
  {
   "cell_type": "code",
   "execution_count": 1,
   "metadata": {},
   "outputs": [],
   "source": [
    "import io, os, time\n",
    "from multiprocessing import set_start_method, Pipe, Process\n",
    "from cryptography.hazmat.backends import default_backend\n",
    "from cryptography.hazmat.primitives import hashes, hmac\n",
    "from cryptography.hazmat.primitives.asymmetric import dh, dsa\n",
    "from cryptography.hazmat.primitives.kdf.hkdf import HKDF\n",
    "from cryptography.hazmat.primitives.ciphers import (Cipher, algorithms, modes)\n",
    "import cryptography.exceptions\n",
    "\n",
    "buffer_size = 4096\n",
    "msg_size = 1024"
   ]
  },
  {
   "cell_type": "code",
   "execution_count": 2,
   "metadata": {},
   "outputs": [],
   "source": [
    "def derive(shared_key):\n",
    "    derived_key = HKDF(\n",
    "        algorithm=hashes.SHA256(),\n",
    "        length=32,\n",
    "        salt=None,\n",
    "        info=b'handshake data',\n",
    "        backend=default_backend(),\n",
    "    ).derive(shared_key)\n",
    "    return derived_key"
   ]
  },
  {
   "cell_type": "code",
   "execution_count": 3,
   "metadata": {},
   "outputs": [],
   "source": [
    "def encrypt(key, iv, plaintext):\n",
    "    # inicialização\n",
    "    encryptor = Cipher(\n",
    "        algorithms.AES(key),\n",
    "        modes.CTR(iv),\n",
    "        backend=default_backend(),\n",
    "    ).encryptor()\n",
    "    \n",
    "    # cifrar a mensagem\n",
    "    return encryptor.update(plaintext)"
   ]
  },
  {
   "cell_type": "code",
   "execution_count": 4,
   "metadata": {},
   "outputs": [],
   "source": [
    "def decrypt(key, iv, ciphertext):\n",
    "    # inicialização\n",
    "    decryptor = Cipher(\n",
    "        algorithms.AES(key),\n",
    "        modes.CTR(iv),\n",
    "        backend=default_backend(),\n",
    "    ).decryptor()\n",
    "\n",
    "    # decifrar a mensagem\n",
    "    return decryptor.update(ciphertext)"
   ]
  },
  {
   "cell_type": "code",
   "execution_count": 5,
   "metadata": {},
   "outputs": [],
   "source": [
    "def sign_message(key, message):\n",
    "    return key.sign(message, hashes.SHA256())"
   ]
  },
  {
   "cell_type": "code",
   "execution_count": 6,
   "metadata": {},
   "outputs": [],
   "source": [
    "def validate_signature(key, message, signature):\n",
    "    try:\n",
    "        key.verify(signature, message, hashes.SHA256())\n",
    "    except InvalidSignature:\n",
    "        return False\n",
    "    return True  "
   ]
  },
  {
   "cell_type": "code",
   "execution_count": 7,
   "metadata": {},
   "outputs": [],
   "source": [
    "def get_hmac(key, message):\n",
    "    h = hmac.HMAC(key, hashes.SHA256(), backend=default_backend())\n",
    "    h.update(message)\n",
    "    return h.finalize()"
   ]
  },
  {
   "cell_type": "code",
   "execution_count": 8,
   "metadata": {},
   "outputs": [],
   "source": [
    "def validate_hmac(key, message, signature):\n",
    "    try:\n",
    "        h = hmac.HMAC(key, hashes.SHA256(), backend=default_backend())\n",
    "        h.update(message)\n",
    "        h.verify(signature)\n",
    "    except InvalidSignature:\n",
    "        return False\n",
    "    return True    "
   ]
  },
  {
   "cell_type": "code",
   "execution_count": 9,
   "metadata": {},
   "outputs": [],
   "source": [
    "def prepare_bundle(key, message, dsa_key):\n",
    "    # gerar o nonce\n",
    "    iv = os.urandom(16)\n",
    "    # obtenção do criptograma\n",
    "    ct = encrypt(key, iv, message)\n",
    "    # assinatura do criptograma\n",
    "    signature = sign_message(dsa_key, ct)\n",
    "    print(len(signature))\n",
    "    # junção do iv, assinatura e criptograma\n",
    "    pre_bundle = iv + signature + ct\n",
    "    # 'prepending' do hmac\n",
    "    bundle = get_hmac(key, pre_bundle) + pre_bundle \n",
    "    return bundle    "
   ]
  },
  {
   "cell_type": "code",
   "execution_count": 10,
   "metadata": {},
   "outputs": [],
   "source": [
    "def execucaoemitter(conn, private_key, receiver_public_key, private_dsa_key, receiver_dsa_key):\n",
    "    # gerar a chave combinada\n",
    "    shared_key = private_key.exchange(receiver_public_key)\n",
    "    # derivar a chave \n",
    "    derived_key = derive(shared_key)    \n",
    "    \n",
    "    while True:\n",
    "        msg = input('Emitter: ').encode()\n",
    "        if len(msg) > msg_size:\n",
    "            break\n",
    "        bundle = prepare_bundle(derived_key, msg, private_dsa_key)\n",
    "        conn.send(bundle)\n",
    "        try:\n",
    "            buffer = bytearray(buffer_size)\n",
    "            buffer = conn.recv()\n",
    "            mac = buffer[0:32]\n",
    "            pre_bundle = buffer[32:]\n",
    "            if validate_hmac(derived_key, pre_bundle, mac):\n",
    "                iv = pre_bundle[0:16]\n",
    "                signature = pre_bundle[16:86]\n",
    "                ct = pre_bundle[86:]\n",
    "                if validate_signature(receiver_dsa_key, ct, signature):\n",
    "                    clear_text = decrypt(derived_key, iv, ct)\n",
    "                    print('Emitter got: ', clear_text.decode())\n",
    "                else:\n",
    "                    print('Emitter got bad signature!')\n",
    "                    break\n",
    "            else:\n",
    "                print('Emitter got bad MAC!')\n",
    "                break\n",
    "        except EOFError:\n",
    "            break    \n",
    "    conn.close()\n",
    "    inputs.close()   "
   ]
  },
  {
   "cell_type": "code",
   "execution_count": 11,
   "metadata": {},
   "outputs": [],
   "source": [
    "def execucaoreceiver(conn, private_key, emitter_public_key, private_dsa_key, emitter_dsa_key):\n",
    "    # gerar a chave combinada\n",
    "    shared_key = private_key.exchange(emitter_public_key)\n",
    "    # derivar a chave \n",
    "    derived_key = derive(shared_key)\n",
    "    \n",
    "    while True:\n",
    "        try:\n",
    "            buffer = bytearray(buffer_size)\n",
    "            buffer = conn.recv()\n",
    "            mac = buffer[0:32]\n",
    "            pre_bundle = buffer[32:]\n",
    "            if validate_hmac(derived_key, pre_bundle, mac):\n",
    "                iv = pre_bundle[0:16]\n",
    "                signature = pre_bundle[16:86]\n",
    "                ct = pre_bundle[86:]\n",
    "                if validate_signature(emitter_dsa_key, ct, signature):\n",
    "                    clear_text = decrypt(derived_key, iv, ct)\n",
    "                    print('Emitter got: ', clear_text.decode())\n",
    "                else:\n",
    "                    print('Emitter got bad signature!')\n",
    "                    break\n",
    "            else:\n",
    "                print('Emitter got bad MAC!')\n",
    "                break\n",
    "        except EOFError:\n",
    "            break\n",
    "        msg = \"ok\"\n",
    "        msg = msg.encode()\n",
    "        if len(msg) > msg_size:\n",
    "            break\n",
    "        bundle = prepare_bundle(derived_key, msg, private_dsa_key)\n",
    "        conn.send(bundle)\n",
    "    conn.close()"
   ]
  },
  {
   "cell_type": "code",
   "execution_count": 12,
   "metadata": {},
   "outputs": [
    {
     "name": "stdout",
     "output_type": "stream",
     "text": [
      "Emitter: a\n",
      "Emitter got:  a\n",
      "70\n",
      "70\n",
      "Emitter got:  ok\n"
     ]
    },
    {
     "name": "stderr",
     "output_type": "stream",
     "text": [
      "Process Process-1:\n",
      "Traceback (most recent call last):\n",
      "  File \"/usr/lib/python3.8/multiprocessing/process.py\", line 315, in _bootstrap\n",
      "    self.run()\n",
      "  File \"/usr/lib/python3.8/multiprocessing/process.py\", line 108, in run\n",
      "    self._target(*self._args, **self._kwargs)\n",
      "  File \"<ipython-input-11-829dd67599b3>\", line 10, in execucaoreceiver\n",
      "    buffer = conn.recv()\n",
      "  File \"/usr/lib/python3.8/multiprocessing/connection.py\", line 250, in recv\n",
      "    buf = self._recv_bytes()\n",
      "  File \"/usr/lib/python3.8/multiprocessing/connection.py\", line 414, in _recv_bytes\n",
      "    buf = self._recv(4)\n",
      "  File \"/usr/lib/python3.8/multiprocessing/connection.py\", line 379, in _recv\n",
      "    chunk = read(handle, remaining)\n",
      "KeyboardInterrupt\n"
     ]
    },
    {
     "ename": "KeyboardInterrupt",
     "evalue": "Interrupted by user",
     "output_type": "error",
     "traceback": [
      "\u001b[0;31m---------------------------------------------------------------------------\u001b[0m",
      "\u001b[0;31mKeyboardInterrupt\u001b[0m                         Traceback (most recent call last)",
      "\u001b[0;32m<ipython-input-12-d1ca9cbfb9ee>\u001b[0m in \u001b[0;36m<module>\u001b[0;34m\u001b[0m\n\u001b[1;32m     32\u001b[0m \u001b[0;34m\u001b[0m\u001b[0m\n\u001b[1;32m     33\u001b[0m \u001b[0mq\u001b[0m\u001b[0;34m.\u001b[0m\u001b[0mstart\u001b[0m\u001b[0;34m(\u001b[0m\u001b[0;34m)\u001b[0m\u001b[0;34m\u001b[0m\u001b[0;34m\u001b[0m\u001b[0m\n\u001b[0;32m---> 34\u001b[0;31m \u001b[0mexecucaoemitter\u001b[0m\u001b[0;34m(\u001b[0m\u001b[0memitter_conn\u001b[0m\u001b[0;34m,\u001b[0m \u001b[0memitter_private_key\u001b[0m\u001b[0;34m,\u001b[0m \u001b[0mreceiver_public_key\u001b[0m\u001b[0;34m,\u001b[0m \u001b[0memitter_private_dsa_key\u001b[0m\u001b[0;34m,\u001b[0m \u001b[0mreceiver_public_dsa_key\u001b[0m\u001b[0;34m)\u001b[0m\u001b[0;34m\u001b[0m\u001b[0;34m\u001b[0m\u001b[0m\n\u001b[0m\u001b[1;32m     35\u001b[0m \u001b[0;34m\u001b[0m\u001b[0m\n\u001b[1;32m     36\u001b[0m \u001b[0mq\u001b[0m\u001b[0;34m.\u001b[0m\u001b[0mjoin\u001b[0m\u001b[0;34m(\u001b[0m\u001b[0mtimeout\u001b[0m\u001b[0;34m=\u001b[0m\u001b[0;36m120\u001b[0m\u001b[0;34m)\u001b[0m\u001b[0;34m\u001b[0m\u001b[0;34m\u001b[0m\u001b[0m\n",
      "\u001b[0;32m<ipython-input-10-8e1e8189615a>\u001b[0m in \u001b[0;36mexecucaoemitter\u001b[0;34m(conn, private_key, receiver_public_key, private_dsa_key, receiver_dsa_key)\u001b[0m\n\u001b[1;32m      6\u001b[0m \u001b[0;34m\u001b[0m\u001b[0m\n\u001b[1;32m      7\u001b[0m     \u001b[0;32mwhile\u001b[0m \u001b[0;32mTrue\u001b[0m\u001b[0;34m:\u001b[0m\u001b[0;34m\u001b[0m\u001b[0;34m\u001b[0m\u001b[0m\n\u001b[0;32m----> 8\u001b[0;31m         \u001b[0mmsg\u001b[0m \u001b[0;34m=\u001b[0m \u001b[0minput\u001b[0m\u001b[0;34m(\u001b[0m\u001b[0;34m'Emitter: '\u001b[0m\u001b[0;34m)\u001b[0m\u001b[0;34m.\u001b[0m\u001b[0mencode\u001b[0m\u001b[0;34m(\u001b[0m\u001b[0;34m)\u001b[0m\u001b[0;34m\u001b[0m\u001b[0;34m\u001b[0m\u001b[0m\n\u001b[0m\u001b[1;32m      9\u001b[0m         \u001b[0;32mif\u001b[0m \u001b[0mlen\u001b[0m\u001b[0;34m(\u001b[0m\u001b[0mmsg\u001b[0m\u001b[0;34m)\u001b[0m \u001b[0;34m>\u001b[0m \u001b[0mmsg_size\u001b[0m\u001b[0;34m:\u001b[0m\u001b[0;34m\u001b[0m\u001b[0;34m\u001b[0m\u001b[0m\n\u001b[1;32m     10\u001b[0m             \u001b[0;32mbreak\u001b[0m\u001b[0;34m\u001b[0m\u001b[0;34m\u001b[0m\u001b[0m\n",
      "\u001b[0;32m/usr/lib/python3/dist-packages/ipykernel/kernelbase.py\u001b[0m in \u001b[0;36mraw_input\u001b[0;34m(self, prompt)\u001b[0m\n\u001b[1;32m    858\u001b[0m                 \u001b[0;34m\"raw_input was called, but this frontend does not support input requests.\"\u001b[0m\u001b[0;34m\u001b[0m\u001b[0;34m\u001b[0m\u001b[0m\n\u001b[1;32m    859\u001b[0m             )\n\u001b[0;32m--> 860\u001b[0;31m         return self._input_request(str(prompt),\n\u001b[0m\u001b[1;32m    861\u001b[0m             \u001b[0mself\u001b[0m\u001b[0;34m.\u001b[0m\u001b[0m_parent_ident\u001b[0m\u001b[0;34m,\u001b[0m\u001b[0;34m\u001b[0m\u001b[0;34m\u001b[0m\u001b[0m\n\u001b[1;32m    862\u001b[0m             \u001b[0mself\u001b[0m\u001b[0;34m.\u001b[0m\u001b[0m_parent_header\u001b[0m\u001b[0;34m,\u001b[0m\u001b[0;34m\u001b[0m\u001b[0;34m\u001b[0m\u001b[0m\n",
      "\u001b[0;32m/usr/lib/python3/dist-packages/ipykernel/kernelbase.py\u001b[0m in \u001b[0;36m_input_request\u001b[0;34m(self, prompt, ident, parent, password)\u001b[0m\n\u001b[1;32m    891\u001b[0m             \u001b[0;32mexcept\u001b[0m \u001b[0mKeyboardInterrupt\u001b[0m\u001b[0;34m:\u001b[0m\u001b[0;34m\u001b[0m\u001b[0;34m\u001b[0m\u001b[0m\n\u001b[1;32m    892\u001b[0m                 \u001b[0;31m# re-raise KeyboardInterrupt, to truncate traceback\u001b[0m\u001b[0;34m\u001b[0m\u001b[0;34m\u001b[0m\u001b[0;34m\u001b[0m\u001b[0m\n\u001b[0;32m--> 893\u001b[0;31m                 \u001b[0;32mraise\u001b[0m \u001b[0mKeyboardInterrupt\u001b[0m\u001b[0;34m(\u001b[0m\u001b[0;34m\"Interrupted by user\"\u001b[0m\u001b[0;34m)\u001b[0m \u001b[0;32mfrom\u001b[0m \u001b[0;32mNone\u001b[0m\u001b[0;34m\u001b[0m\u001b[0;34m\u001b[0m\u001b[0m\n\u001b[0m\u001b[1;32m    894\u001b[0m             \u001b[0;32melse\u001b[0m\u001b[0;34m:\u001b[0m\u001b[0;34m\u001b[0m\u001b[0;34m\u001b[0m\u001b[0m\n\u001b[1;32m    895\u001b[0m                 \u001b[0;32mbreak\u001b[0m\u001b[0;34m\u001b[0m\u001b[0;34m\u001b[0m\u001b[0m\n",
      "\u001b[0;31mKeyboardInterrupt\u001b[0m: Interrupted by user"
     ]
    }
   ],
   "source": [
    "try:\n",
    "    set_start_method('fork')     ## a alteração principal\n",
    "except:\n",
    "    pass\n",
    "\n",
    "receiver_conn, emitter_conn = Pipe()\n",
    "\n",
    "# parametros para o par de chaves\n",
    "parameters = dh.generate_parameters(generator=2, key_size=2048, backend=default_backend())\n",
    "\n",
    "# par de chaves do emitter\n",
    "emitter_private_key = parameters.generate_private_key()\n",
    "# chave publica do emitter\n",
    "emitter_public_key = emitter_private_key.public_key()\n",
    "\n",
    "# par de chaves do receiver\n",
    "receiver_private_key = parameters.generate_private_key()\n",
    "# chave publica do receiver\n",
    "receiver_public_key = receiver_private_key.public_key()\n",
    "\n",
    "# par de chaves dsa do emitter\n",
    "emitter_private_dsa_key = dsa.generate_private_key(key_size=2048, backend=default_backend())\n",
    "# chave publica dsa do emitter\n",
    "emitter_public_dsa_key = emitter_private_dsa_key.public_key()\n",
    "\n",
    "# par de chaves dsa do receiver\n",
    "receiver_private_dsa_key = dsa.generate_private_key(key_size=2048, backend=default_backend())\n",
    "# chave publica dsa do receiver\n",
    "receiver_public_dsa_key = receiver_private_dsa_key.public_key()\n",
    "\n",
    "q = Process(target=execucaoreceiver, args=(receiver_conn, receiver_private_key, emitter_public_key, receiver_private_dsa_key, emitter_public_dsa_key,))\n",
    "\n",
    "q.start()\n",
    "execucaoemitter(emitter_conn, emitter_private_key, receiver_public_key, emitter_private_dsa_key, receiver_public_dsa_key)\n",
    "\n",
    "q.join(timeout=120)"
   ]
  }
 ],
 "metadata": {
  "kernelspec": {
   "display_name": "Python 3",
   "language": "python",
   "name": "python3"
  },
  "language_info": {
   "codemirror_mode": {
    "name": "ipython",
    "version": 3
   },
   "file_extension": ".py",
   "mimetype": "text/x-python",
   "name": "python",
   "nbconvert_exporter": "python",
   "pygments_lexer": "ipython3",
   "version": "3.8.5"
  }
 },
 "nbformat": 4,
 "nbformat_minor": 4
}
