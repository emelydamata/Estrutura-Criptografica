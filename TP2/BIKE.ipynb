{
 "cells": [
  {
   "cell_type": "code",
   "execution_count": 1,
   "metadata": {},
   "outputs": [],
   "source": [
    "import random as rn\n",
    "from cryptography.hazmat.primitives import hashes"
   ]
  },
  {
   "cell_type": "code",
   "execution_count": 2,
   "metadata": {},
   "outputs": [],
   "source": [
    "K = GF(2)\n",
    "um = K(1)\n",
    "zero = K(0)\n",
    "\n",
    "r = 257\n",
    "#r = 12323\n",
    "n = 2*r\n",
    "t = 16\n",
    "#t = 134"
   ]
  },
  {
   "cell_type": "code",
   "execution_count": 3,
   "metadata": {},
   "outputs": [],
   "source": [
    "Vn  = VectorSpace(K,n)\n",
    "Vr  = VectorSpace(K,r)\n",
    "Vq  = VectorSpace(QQ,r)\n",
    "\n",
    "Mr  = MatrixSpace(K,n,r)"
   ]
  },
  {
   "cell_type": "code",
   "execution_count": 4,
   "metadata": {},
   "outputs": [],
   "source": [
    "def mask(u,v):                                   ## \n",
    "    return u.pairwise_product(v)\n",
    "\n",
    "def hamm(u):                                     ## peso de Hamming\n",
    "    return sum([1 if a == um else 0 for a in u])"
   ]
  },
  {
   "cell_type": "code",
   "execution_count": 5,
   "metadata": {},
   "outputs": [],
   "source": [
    "# Matrizes circulantes de tamanho r com r primo\n",
    "\n",
    "R = PolynomialRing(K,name='w')\n",
    "w = R.gen()\n",
    "Rr = QuotientRing(R,R.ideal(w^r - 1))\n",
    "\n",
    "def rot(h):\n",
    "    v = Vr() ; v[0] = h[-1]\n",
    "    for i in range(r-1):\n",
    "        v[i+1] = h[i]\n",
    "    return v\n",
    "\n",
    "def Rot(h):\n",
    "    M = Matrix(K,r,r) ; M[0] = expand(h)\n",
    "    for i in range(1,r):\n",
    "        M[i] = rot(M[i-1])\n",
    "    return M\n",
    "\n",
    "def expand(f):\n",
    "    fl = f.list(); ex = r - len(fl)\n",
    "    return Vr(fl + [zero]*ex)\n",
    "\n",
    "def expand2(code):\n",
    "    (f0,f1) = code\n",
    "    f = expand(f0).list() + expand(f1).list()\n",
    "    return Vn(f)\n",
    "\n",
    "def unexpand2(vec):\n",
    "    u = vec.list()\n",
    "    return (Rr(u[:r]),Rr(u[r:]))"
   ]
  },
  {
   "cell_type": "markdown",
   "metadata": {},
   "source": [
    "## O algoritmo de descodificação  Bit-Flip"
   ]
  },
  {
   "cell_type": "code",
   "execution_count": 6,
   "metadata": {},
   "outputs": [],
   "source": [
    "# Uma implementação do algoritmo Bit Flip sem quaisquer optimizações\n",
    "\n",
    "def BF(H,code,synd,cnt_iter=r, errs=0):\n",
    " \n",
    "    mycode = code\n",
    "    mysynd = synd\n",
    "    \n",
    "    while cnt_iter > 0 and hamm(mysynd) > errs:\n",
    "        cnt_iter   = cnt_iter - 1\n",
    "        \n",
    "        unsats     = [hamm(mask(mysynd,H[i])) for i in range(n)]\n",
    "        max_unsats = max(unsats)\n",
    "        \n",
    "        for i in range(n):\n",
    "            if unsats[i] == max_unsats:\n",
    "                mycode[i]  += um               ## bit-flip\n",
    "                mysynd     += H[i]\n",
    "\n",
    "    if cnt_iter == 0:\n",
    "        raise ValueError(\"BF: limite de iterações ultrapassado\")\n",
    "    \n",
    "    return mycode    "
   ]
  },
  {
   "cell_type": "markdown",
   "metadata": {},
   "source": [
    "## O  PKE  BIKE"
   ]
  },
  {
   "cell_type": "code",
   "execution_count": 7,
   "metadata": {},
   "outputs": [],
   "source": [
    "#sparse polynomials of size r\n",
    "\n",
    "# produz sempre um polinómio mónico com o último coeficiente igual a 1\n",
    "# o parametro \"sparse > 0\"  é o numero de coeficientes não nulos sem contar com o primeiro e o ultimo\n",
    "\n",
    "def sparse_pol(sparse=3):\n",
    "    coeffs = [1]*sparse + [0]*(r-2-sparse)\n",
    "    rn.shuffle(coeffs)\n",
    "    return Rr([1]+coeffs+[1])\n",
    "\n",
    "## Noise\n",
    "# produz um par de polinomios dispersos de tamanho \"r\" com um dado número total de erros \"t\"\n",
    "\n",
    "def noise(t):\n",
    "    el = [um]*t + [zero]*(n-t)\n",
    "    rn.shuffle(el)  \n",
    "    return (Rr(el[:r]),Rr(el[r:]))\n",
    "    "
   ]
  },
  {
   "cell_type": "code",
   "execution_count": 8,
   "metadata": {},
   "outputs": [],
   "source": [
    "## Bike\n",
    "\n",
    "def bikeKG():\n",
    "    while True:\n",
    "        h0 = sparse_pol(); h1 = sparse_pol()\n",
    "        if h0 != h1 and h0.is_unit() and h1.is_unit():\n",
    "            break\n",
    "\n",
    "    h = (h0,h1)                          # chave privada\n",
    "    g = (1, h0/h1)                       # chave pública para um código sistemático\n",
    "    return (g,h)\n",
    "\n",
    "def bikeEncrypt(g,m):\n",
    "    (g0,g1) = g \n",
    "    (n0,n1) = noise(t)\n",
    "    return (m * g0 + n0, m * g1 + n1)       # Modelo McEliece\n",
    "\n",
    "def bikeDecrypt(h,cr):\n",
    "    code = expand2(cr)                      # converter para vetor\n",
    "    \n",
    "    (h0,h1) = h                             # a partir da chave privada gera a matriz de paridades\n",
    "    H = block_matrix(2,1,[Rot(h0),Rot(h1)])\n",
    "    synd = code * H                         # calcula o sindroma\n",
    "    \n",
    "    cw = BF(H,code,synd)                    # descodifica usando BitFlip em vetores\n",
    "    \n",
    "    (cw0,cw1) = unexpand2(cw)               # passar a polinómios\n",
    "    assert cw1*h1 == cw0*h0                 # confirmação\n",
    "    return cw0                              # como é um código sistemático a primeira componente da cw é a mensagem\n",
    "    "
   ]
  },
  {
   "cell_type": "markdown",
   "metadata": {},
   "source": [
    "## TESTE"
   ]
  },
  {
   "cell_type": "code",
   "execution_count": 10,
   "metadata": {},
   "outputs": [
    {
     "data": {
      "text/plain": [
       "True"
      ]
     },
     "execution_count": 10,
     "metadata": {},
     "output_type": "execute_result"
    }
   ],
   "source": [
    "## gera o par de chaves\n",
    "\n",
    "(g,h) = bikeKG()\n",
    "\n",
    "## gera uma mensagem arbitrária\n",
    "m = Rr.random_element()  \n",
    "\n",
    "# Cifra\n",
    "cr = bikeEncrypt(g,m)\n",
    "\n",
    "# Decifra\n",
    "m1 = bikeDecrypt(h,cr)\n",
    "\n",
    "# Verifica\n",
    "m == m1"
   ]
  },
  {
   "cell_type": "markdown",
   "metadata": {},
   "source": [
    "# TP 2 - Implementação BIKE\n",
    "Este notebook tem a implementação do nosso BIKE KEM e BIKE-PKE-CCA usando a TFO. <br>\n",
    "Antes de avancçarmos com a especificação do código há uns aspectos a salientar. <br>\n",
    "O primeiro é que, citando o ponto 4.2.1, não há problema em usar o decoder fornecido pelo professor para implementar o resto do KEM. <br>\n",
    "O segundo aspecto é que não sabemos a taxa de falha do decoder é impossível nós podermos dizer que o KEM é IND-CPA ou IND-CCA, no entanto podemos dizer que o PKE é IND-CCA porque é garantido pela Transformação Fujisaki-Okamoto. <br>\n",
    "Por fim também convém salientar que seria muito melhor que o decoder tivesse sido implementado de raiz. <br>\n",
    "É aconselhado que para a leitura deste documento também se tenha a especificação do BIKE de 22-10-2020 à mão.\n",
    "\n",
    "## KEM\n",
    "### KeyGen\n",
    "Em primeiro geramos aleatóriamente um par de polinómios do espaço Hw (|h0| = |h1| = w/2). <br>\n",
    "Em segundo calculamos um polinómio h que é igual a h1/h0.<br>\n",
    "Em terceiro geramos uma sequência de 32 bytes aleatória usando um método apropiado para servir de sigma.<br>\n",
    "No fim fazemos output destes 4 valores."
   ]
  },
  {
   "cell_type": "code",
   "execution_count": null,
   "metadata": {},
   "outputs": [],
   "source": [
    "# KeyGen\n",
    "# Void -> (Hw (h0 h1), B sigma, poly h)\n",
    "def keyGen():\n",
    "    # Passo 1 (h0, h1) random Hw\n",
    "    while True:\n",
    "        h0 = sparse_pol(); h1 = sparse_pol()\n",
    "        if h0 != h1 and h0.is_unit() and h1.is_unit():\n",
    "            break\n",
    "\n",
    "    # Passo 2 h = h1 / h0\n",
    "    h = h1/h0\n",
    "    # Passo 3 sigma random B\n",
    "    sigma = os.urandom(32)\n",
    "    return (h0.lift(),h1.lift(),sigma,h.lift())"
   ]
  },
  {
   "cell_type": "markdown",
   "metadata": {},
   "source": [
    "### Encaps\n",
    "Em primeiro geramos aleatóriamente uma sequência de 32 bytes para servir de m. <br>\n",
    "Em segundo fazemos H(m) de forma a calcular dois polinómios e0 e e1.<br>\n",
    "Em terceiro obtemos um c = (c0 e c1) que consiste no encapsulamento do h e de m com L(e0,e1).<br>\n",
    "Em quarto calculamos a chave partilhada.\n",
    "No fim fazemos output da chave partilhada e do seu encapsulamento."
   ]
  },
  {
   "cell_type": "code",
   "execution_count": null,
   "metadata": {},
   "outputs": [],
   "source": [
    "# Encaps\n",
    "# poly h -> (B k, (poly c0, B c1))\n",
    "def encapsulate(h):\n",
    "    # Passo 1 m random B\n",
    "    m = os.urandom(32)\n",
    "    # Passo 2 (e0, e1) = H(m)\n",
    "    (e0, e1) = hashH(m)\n",
    "    # Passo 3 c = (e0 + (e1 * h), xor(m, L(e0,e1)))\n",
    "    c = (e0 + (e1 * h), xor(m, hashL(e0, e1, r)))\n",
    "    # Passo 4 K = K(m, c)\n",
    "    k = hashK(m, c)\n",
    "    return (k,c)"
   ]
  },
  {
   "cell_type": "markdown",
   "metadata": {},
   "source": [
    "### KEM_Encaps\n",
    "Esta função é a anterior sem o primeiro passo de forma a ser usada na TFO."
   ]
  },
  {
   "cell_type": "code",
   "execution_count": null,
   "metadata": {},
   "outputs": [],
   "source": [
    "# Encaps sem o passo 1 para a FOT\n",
    "def kem_encapsulate(h, m):\n",
    "    (e0, e1) = hashH(m)\n",
    "    c = (e0 + e1 * h, xor(m, hashL(e0, e1, r)))\n",
    "    k = hashK(m, c)\n",
    "    return (k,c)"
   ]
  },
  {
   "cell_type": "markdown",
   "metadata": {},
   "source": [
    "### Decaps\n",
    "Em primeiro fazemos o decode da primeira metade do criptograma. <br>\n",
    "Em segundo fazemos m' = xor da segunda metade do criptograma com L(e1, e2).<br>\n",
    "Em terceiro fazemos H do resultado do segundo passo.<br>\n",
    "Em quarto verificamos se o resultado do H coincide com o resultado do decode.<br>\n",
    "Se coincidir devolvemos k = K(m', c) senão devolvemos k = K(sigma, c). <br>\n",
    "\n",
    "O código deixa de correr aqui quando tentamos fazer pairwise product no decoder.<br>\n",
    "AttributeError: 'sage.rings.polynomial.polynomial_gf2x.Polynomial_GF2X' object has no attribute 'pairwise_product'"
   ]
  },
  {
   "cell_type": "code",
   "execution_count": null,
   "metadata": {},
   "outputs": [],
   "source": [
    "# Decaps \n",
    "# Hw (h0 h1) -> B sigma -> (poly c0, B c1) -> B k \n",
    "def decapsulate(h0, h1, sigma, c):\n",
    "    (c0, c1) = c\n",
    "    \n",
    "    # Passo 1 e' = decoder(c0 * h0, h0, h1)\n",
    "    el = BF(c0*h0, h0, h1)\n",
    "    (el1,el2) = unexpand2(el)\n",
    "    \n",
    "    # Passo 2 m' = xor(c1, L(e'))\n",
    "    ml = xor(c1, hashL(el1, el2))\n",
    "    (ml1, ml2) = hashH(ml)\n",
    "    \n",
    "    # Passo 3\n",
    "    if el1 == ml1 & el2 == ml2:\n",
    "        return hashK(ml, c)\n",
    "    else: \n",
    "        return hashK(sigma, c)"
   ]
  },
  {
   "cell_type": "markdown",
   "metadata": {},
   "source": [
    "## H\n",
    "Nesta seçcão temos as funções necessárias para a função H. <br>\n",
    "A função H é a aplicação do algoritmo 4 de forma a obter dois polinómios gerados aleatóriamente no espaço de erros, ou seja (|e0| + |e1| = t).<br>\n",
    "Por uma questão de tempo e seguindo o que é dito no ponto 4.2.3 substituimos o gerador aleatório de strings de bytes pelo os.urandom mas tirando isso o resto da implementação é leal à especificação."
   ]
  },
  {
   "cell_type": "code",
   "execution_count": null,
   "metadata": {},
   "outputs": [],
   "source": [
    "# Hash K geração aleatória de um par (e0, e1) no espaço de erros (|e0| + |e1| = t)\n",
    "def hashH(seed):\n",
    "    (wlist, s) = alg4(seed, t, r)\n",
    "    # Converter s noutra lista de coeficientes\n",
    "    slist = bits_to_coeffs(s)\n",
    "    \n",
    "    # Devolver os polinómios criados com as listas de coeficientes\n",
    "    return (Rr(wlist).lift(), Rr(slist).lift())    \n",
    "    \n",
    "def alg4(s, wt, leng):\n",
    "    # Passo 1\n",
    "    wlist = []\n",
    "    i = 0\n",
    "    \n",
    "    # Passo 2\n",
    "    # s = aes_ctr_stream(seed, suf_large)    \n",
    "    s = bytes_to_bits(os.urandom(4*wt))\n",
    "    \n",
    "    # Passo 3    \n",
    "    maskI = (2 ** (ceil(log(r, 2)))) - 1    \n",
    "    mask = int_to_bits(maskI)\n",
    "    \n",
    "    # Passo 4\n",
    "    for ctr in range (wt):\n",
    "        # Passo 5\n",
    "        posb = and_bits(s[((32 *(i + 1)) - 1) : (32 * i)], mask)\n",
    "        pos = bits_to_int(posb)\n",
    "        \n",
    "        # Passo 6\n",
    "        if (pos < leng) & (belongs(pos, wlist)):\n",
    "            # Passo 7\n",
    "            wlist.append(pos)\n",
    "        i += 1\n",
    "        \n",
    "    # Passo 8\n",
    "    return (wlist, s)\n",
    "\n",
    "def bits_to_coeffs(s):    \n",
    "    new = []\n",
    "    for i in range(0, len(s), 32):\n",
    "        new.append(s[i : i+32])\n",
    "    \n",
    "    r = []\n",
    "    for i in range(len(new)):\n",
    "        tmp = 0\n",
    "        for j in range(len(new[i])):\n",
    "            tmp += (2 ** j)*new[i][j]\n",
    "        r.append(tmp)\n",
    "        \n",
    "    return r\n",
    "\n",
    "def belongs(n, l):\n",
    "    return l.count(n) > 0\n",
    "\n",
    "def bytes_to_bits(B1):\n",
    "    B = []\n",
    "    for i in range(len(B1)):\n",
    "        B.append(Integer(B1[i]))\n",
    "    b = []\n",
    "    size = len(B)\n",
    "    for i in range (size):\n",
    "        tmp = B[i]\n",
    "        for j in range (8):\n",
    "            b.append(tmp % 2)\n",
    "            tmp = tmp // 2\n",
    "    stop = 0\n",
    "    i = len(b) - 1\n",
    "    while stop == 0:\n",
    "        if b[i] == 1:\n",
    "            stop = 1\n",
    "        else:\n",
    "            del(b[i])\n",
    "        i -= 1\n",
    "    return b\n",
    "\n",
    "def int_to_bits(x):\n",
    "    tmp = x\n",
    "    b = []\n",
    "    while tmp > 0:\n",
    "        b.append(tmp%2)\n",
    "        tmp = tmp//2\n",
    "    return b\n",
    "\n",
    "def bits_to_int(b):\n",
    "    r = 0\n",
    "    for i in range(len(b)):\n",
    "        r += (2** i) * b[i]\n",
    "    return r\n",
    "\n",
    "def and_bits(b1, b2):\n",
    "    r = []\n",
    "    size = len(b1)\n",
    "    if len(b2) < size:\n",
    "        size = len(b2)\n",
    "        \n",
    "    for i in range (size):\n",
    "        r.append(b1[i] & b2[i])\n",
    "        \n",
    "    return r"
   ]
  },
  {
   "cell_type": "markdown",
   "metadata": {},
   "source": [
    "## K\n",
    "Esta função usa o SHA384 aplicada a um array de bytes, um polinómio (convertido num array de bytes) e outro array de bytes e devolve os 32 bytes menos significativos."
   ]
  },
  {
   "cell_type": "code",
   "execution_count": null,
   "metadata": {},
   "outputs": [],
   "source": [
    "# Hash K, output l = 256 bits menos significativos de hashing do m || b_to_B(c0) || c1 \n",
    "def hashK(m, c):\n",
    "    (c0, c1) = c\n",
    "    c0b = coefs_to_bytes(c0)\n",
    "    message = m + c0b + c1\n",
    "    digest = hashes.Hash(hashes.SHA384())\n",
    "    digest.update(message)\n",
    "    r = digest.finalize()\n",
    "    return r[:32]"
   ]
  },
  {
   "cell_type": "markdown",
   "metadata": {},
   "source": [
    "## L\n",
    "Esta função usa o SHA384 aplicada a dois polinómios (convertidos em arrays de bytes) e devolve os 32 bytes menos significativos."
   ]
  },
  {
   "cell_type": "code",
   "execution_count": null,
   "metadata": {},
   "outputs": [],
   "source": [
    "# Hash L, output l = 256 bits menos significativos de hashing do b_to_B(e0) || b_to_B(e1)  \n",
    "def hashL(e0, e1, r):\n",
    "    e0b = coefs_to_bytes(e0)\n",
    "    e1b = coefs_to_bytes(e1)\n",
    "    message = e0b + e1b\n",
    "    digest = hashes.Hash(hashes.SHA384())\n",
    "    digest.update(message)\n",
    "    r = digest.finalize()\n",
    "    return r[:32]\n",
    "\n",
    "def coefs_to_bytes(e):\n",
    "    l = e.list()\n",
    "    return bytearray(l)"
   ]
  },
  {
   "cell_type": "markdown",
   "metadata": {},
   "source": [
    "#### Funções Auxiliares"
   ]
  },
  {
   "cell_type": "code",
   "execution_count": null,
   "metadata": {},
   "outputs": [],
   "source": [
    "# xor de um byte a com um byte b (o sagemath faz interferência com o operador '^')\n",
    "def mini_xor(a, b):\n",
    "    tmpa = a\n",
    "    tmpb = b\n",
    "    r0 = tmpa % 2 + tmpb % 2\n",
    "    tmpa = int(tmpa//2)\n",
    "    tmpb = int(tmpb//2)\n",
    "    r1 = tmpa % 2 + tmpb % 2\n",
    "    tmpa = int(tmpa//2)\n",
    "    tmpb = int(tmpb//2)\n",
    "    r2 = tmpa % 2 + tmpb % 2\n",
    "    tmpa = int(tmpa//2)\n",
    "    tmpb = int(tmpb//2)\n",
    "    r3 = tmpa % 2 + tmpb % 2\n",
    "    tmpa = int(tmpa//2)\n",
    "    tmpb = int(tmpb//2)\n",
    "    r4 = tmpa % 2 + tmpb % 2\n",
    "    tmpa = int(tmpa//2)\n",
    "    tmpb = int(tmpb//2)\n",
    "    r5 = tmpa % 2 + tmpb % 2\n",
    "    tmpa = int(tmpa//2)\n",
    "    tmpb = int(tmpb//2)\n",
    "    r6 = tmpa % 2 + tmpb % 2\n",
    "    tmpa = int(tmpa//2)\n",
    "    tmpb = int(tmpb//2)\n",
    "    r7 = tmpa % 2 + tmpb % 2\n",
    "    tmpa = int(tmpa//2)\n",
    "    tmpb = int(tmpb//2)\n",
    "        \n",
    "    soma = 0\n",
    "    if r0 == 1:\n",
    "        soma += 1\n",
    "    if r1 == 1:\n",
    "        soma += 2\n",
    "    if r2 == 1:\n",
    "        soma += 4\n",
    "    if r3 == 1:\n",
    "        soma += 8\n",
    "    if r4 == 1:\n",
    "        soma += 16\n",
    "    if r5 == 1:\n",
    "        soma += 32\n",
    "    if r6 == 1:\n",
    "        soma += 64\n",
    "    if r7 == 1:\n",
    "        soma += 128\n",
    "            \n",
    "    return soma\n",
    "        \n",
    "# xor de dois arrays de bytes\n",
    "def xor(a, b):\n",
    "    size = len(b)\n",
    "    if len(a) < len(b):\n",
    "        size = len(a)\n",
    "            \n",
    "    xored = bytearray(size)\n",
    "    for i in range(size):\n",
    "        xored[i] = mini_xor(a[i], b[i])\n",
    "    return xored"
   ]
  },
  {
   "cell_type": "markdown",
   "metadata": {},
   "source": [
    "## Teste do KEM"
   ]
  },
  {
   "cell_type": "code",
   "execution_count": null,
   "metadata": {
    "scrolled": true
   },
   "outputs": [],
   "source": [
    "## gera o par de chaves\n",
    "(h0, h1, sigma, h) = keyGen()\n",
    "\n",
    "## Encapsulamento da Chave\n",
    "(k, c) = encapsulate(h)  \n",
    "\n",
    "# Desencapsulamento da Chave\n",
    "kl = decapsulate(h0, h1, sigma, c)\n",
    "\n",
    "# Verificação\n",
    "k == kl"
   ]
  },
  {
   "cell_type": "markdown",
   "metadata": {},
   "source": [
    "## Transformação FO\n",
    "Aqui temos o código do TP1 ligeiramente alterado tendo em conta que o BIKE não foi implementado numa classe.<br>\n",
    "É de salientar para não haver confusão que o output da encapsulate está \"trocado\" em vez de devolver (e,k) devolve (k,e). <br>\n",
    "Além disto o output da encapsulate não é apenas (k, e), mas sim (k, (e1, e))."
   ]
  },
  {
   "cell_type": "code",
   "execution_count": null,
   "metadata": {},
   "outputs": [],
   "source": [
    "class PKE:\n",
    "    # construtor da classe\n",
    "    def __init__(self, x, h0, h1, sigma, h):\n",
    "        self.x = x\n",
    "        self.h0 = h0\n",
    "        self.h1 = h1\n",
    "        self.sigma = sigma\n",
    "        self.h = h\n",
    "        \n",
    "    # hash h\n",
    "    def hashh(self, message):\n",
    "        digest = hashes.Hash(hashes.SHA256())\n",
    "        digest.update(message)\n",
    "        return digest.finalize()\n",
    "    \n",
    "    # hash g\n",
    "    def hashg(self, message):\n",
    "        digest = hashes.Hash(hashes.BLAKE2s(32))\n",
    "        digest.update(message)\n",
    "        return digest.finalize()\n",
    "\n",
    "    # E'\n",
    "    def cifrar(self):\n",
    "        # primeiro passo, r <- h \n",
    "        self.r = self.hashh(self.x)\n",
    "        # segundo passo, y <- x XOR g(r) \n",
    "        self.y = xor(self.x, self.hashg(self.r))\n",
    "        # terceiro passo, r' <- y || r\n",
    "        self.rl = self. y + self.r\n",
    "        # quarto passo, KEM(r')\n",
    "        (self.k, (self.e0, self.e)) = kem_encapsulate(self.h, 257, self.rl)\n",
    "        self.k = bits_to_bytes(self.k)\n",
    "        # finalmente c = k XOR r\n",
    "        self.c = xor(self.k, self.r)\n",
    "    \n",
    "    # D'\n",
    "    def decifrar(self):\n",
    "        # k <- KREv(e)\n",
    "        self.k = decapsulate(self.h0, self.h1, self.sigma, (self.e0, self.e), 257) \n",
    "        # r <- c XOR k\n",
    "        self.r = xor(self.c, self.k)\n",
    "        # r' = y || r\n",
    "        self.rl = self.y + self.r\n",
    "        # (e, k) = f(rl)\n",
    "        (self.k2, (self.e02, self.e2)) = kem_encapsulate(self.h, 257, self.rl)\n",
    "        self.k2 = bits_to_bytes(self.k2)\n",
    "        # verificação f(rl) == (e, k)\n",
    "        if (self.k2 == self.k) & (self.e2 == self.e):\n",
    "            # x == y XOR g(r)\n",
    "            self.x = xor(self.y, self.hashg(self.r))\n",
    "            print(\"True\")\n",
    "        else:\n",
    "            print(\"False\")"
   ]
  },
  {
   "cell_type": "markdown",
   "metadata": {},
   "source": [
    "## Teste do PKE IND-CCA"
   ]
  },
  {
   "cell_type": "code",
   "execution_count": null,
   "metadata": {},
   "outputs": [],
   "source": [
    "# Teste BIKE_FOT_PKE    \n",
    "(h0, h1, sigma, h) = keyGen()\n",
    "# inicializamos a classe PKE\n",
    "b = PKE(b'teste', h0, h1, sigma, h)\n",
    "# fazemos E'(x)\n",
    "b.cifrar()\n",
    "# fazemos D' (yec)\n",
    "b.decifrar()"
   ]
  }
 ],
 "metadata": {
  "kernelspec": {
   "display_name": "SageMath 9.2",
   "language": "sage",
   "name": "sagemath"
  },
  "language_info": {
   "codemirror_mode": {
    "name": "ipython",
    "version": 3
   },
   "file_extension": ".py",
   "mimetype": "text/x-python",
   "name": "python",
   "nbconvert_exporter": "python",
   "pygments_lexer": "ipython3",
   "version": "3.7.10"
  }
 },
 "nbformat": 4,
 "nbformat_minor": 4
}
