{
 "cells": [
  {
   "cell_type": "markdown",
   "metadata": {},
   "source": [
    "Solução Para o Trabalho Prático 00 - Problema 01:\n",
    "\n",
    "- Criamos uma comunicação baseada em sockets onde o agente Emitter é o responsável pelo envio de uma mensagem, e o agente Receiver irá recepcionar a mensagem. \n",
    "\n",
    "-  A mensagem a ser enviada é cifrada usando o modo AESGCM;\n",
    "\n",
    "- Para a Derivação de chave a parti da password, utilizamos o algoritmo PBKDF2HMAC;\n",
    "\n",
    "- E a autenticação da chave usando o HMAC.\n",
    "\n",
    "* Observação: Considerando que não conseguimos a execução da comunicação sockest via jupyter, iremos mostrar a funcionaldiade executando via terminal. \n"
   ]
  },
  {
   "cell_type": "code",
   "execution_count": 14,
   "metadata": {},
   "outputs": [],
   "source": [
    "\"\"\"  Imports necessários para a execução. \"\"\"\n",
    "\n",
    "import getpass\n",
    "import socket\n",
    "import os\n",
    "from cryptography.hazmat.primitives.ciphers.aead import AESGCM\n",
    "from cryptography.hazmat.primitives.kdf.pbkdf2 import PBKDF2HMAC\n",
    "from cryptography.hazmat.backends import default_backend\n",
    "from cryptography.hazmat.primitives import hashes, hmac"
   ]
  },
  {
   "cell_type": "markdown",
   "metadata": {},
   "source": [
    "O fluxo inicia quando o Receiver disponibiliza uma conexão em uma determinada porta/endereço. Então, o Emitter solicita iniciar a conexão com o Receiver. \n",
    "\n",
    "E, após a conexão estabelecida o Emitter precisará informar uma password, assim como o Receiver, para realizar a troca das mensagens. Logo, ambas as passwords precisam ser inseridas em conformidade, para que não haja problemas no processo de  transmissão das mensagens. \n",
    "\n",
    "O recurso escolhido para o pedido de password entre os agentes foi o recurso getpass por ser uma maneira mais segura enquanto os agentes digitem suas passwords, sem que sejam exibido o valor digitado em tela."
   ]
  },
  {
   "cell_type": "code",
   "execution_count": 15,
   "metadata": {},
   "outputs": [],
   "source": [
    "\"\"\" Metodo para pedir ao utilizador para inserir uma password usando getpass() \"\"\"\n",
    "\n",
    "def requestPassWord(self):\n",
    "    password = getpass.getpass()\n",
    "    return str.encode(password)"
   ]
  },
  {
   "cell_type": "markdown",
   "metadata": {},
   "source": [
    "Tendo a password dada pelos agentes,e com o uso de um salt (aleatório), realiza-se a derivação da chave."
   ]
  },
  {
   "cell_type": "code",
   "execution_count": 16,
   "metadata": {},
   "outputs": [],
   "source": [
    "\"\"\" Metodo para a derivacao da chave usando PBKDF2HMAC \"\"\"\n",
    "\n",
    "def pbkdf2Hmac(self, salt):\n",
    "    kdf = PBKDF2HMAC(\n",
    "        # Usando SHA256\n",
    "        algorithm=hashes.SHA256(),\n",
    "        # Chave com 32 bytes de comprimento\n",
    "        length=32,\n",
    "        salt=salt,\n",
    "        # 100000 iteracoes (como o exemplo da literatura do cryptography.io)\n",
    "        iterations=100000,\n",
    "        backend=default_backend())\n",
    "    return kdf"
   ]
  },
  {
   "cell_type": "markdown",
   "metadata": {},
   "source": [
    "Após a password informada pelos agentes, o Receiver fica no aguardo de uma mensagem, enquanto que ao Emitter é solicitado que se insira qual mensagem deve ser enviada."
   ]
  },
  {
   "cell_type": "code",
   "execution_count": 17,
   "metadata": {},
   "outputs": [],
   "source": [
    "\"\"\" Este Metodo para pedir ao utilizador para inserir uma mensagem \"\"\"\n",
    "\n",
    "def ask_message(self):\n",
    "    mesg = input(\"Escreva a sua Mensagem\\n\")\n",
    "    return mesg.encode()"
   ]
  },
  {
   "cell_type": "markdown",
   "metadata": {},
   "source": [
    "Após obter a chave e a password, gera-se então o HMAC correspondente:"
   ]
  },
  {
   "cell_type": "code",
   "execution_count": 18,
   "metadata": {},
   "outputs": [],
   "source": [
    "\"\"\" Metodo para gerar o HMAC da chave \"\"\"\n",
    "\n",
    "def mac(self, secret, msg):\n",
    "    print(\"1.1\")\n",
    "    # Inicializacao da chave\n",
    "    h = hmac.HMAC(secret, hashes.SHA256(), default_backend())\n",
    "    print(\"1.2\")\n",
    "    # Obtencao da chave em bytes e nao string\n",
    "    h.update(msg)\n",
    "    print(\"1.3\")\n",
    "    return h.finalize()"
   ]
  },
  {
   "cell_type": "markdown",
   "metadata": {},
   "source": [
    "De seguida, ocorre o uso do metodo encrypt que irá cifrar a mensagem do Emitter. "
   ]
  },
  {
   "cell_type": "code",
   "execution_count": null,
   "metadata": {},
   "outputs": [],
   "source": [
    "encrypt"
   ]
  }
 ],
 "metadata": {
  "kernelspec": {
   "display_name": "Python 3",
   "language": "python",
   "name": "python3"
  },
  "language_info": {
   "codemirror_mode": {
    "name": "ipython",
    "version": 3
   },
   "file_extension": ".py",
   "mimetype": "text/x-python",
   "name": "python",
   "nbconvert_exporter": "python",
   "pygments_lexer": "ipython3",
   "version": "3.8.5"
  }
 },
 "nbformat": 4,
 "nbformat_minor": 4
}
