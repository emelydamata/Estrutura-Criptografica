{
 "cells": [
  {
   "cell_type": "code",
   "execution_count": 46,
   "id": "advance-correlation",
   "metadata": {},
   "outputs": [],
   "source": [
    "import os\n",
    "import random\n",
    "\n",
    "from cryptography.hazmat.primitives import hashes"
   ]
  },
  {
   "cell_type": "code",
   "execution_count": 16,
   "id": "right-olive",
   "metadata": {},
   "outputs": [
    {
     "data": {
      "text/plain": [
       "'\\nq = 8380417\\nd = 13\\nGAMMA = 39\\nchallenge netropy = 192\\ngamma1 = 2^17\\ngamma2 = 95232\\n(k, l) = (4, 4)\\neta = 2\\nbeta = 78\\nomega = 80\\nreps = 4.25\\n'"
      ]
     },
     "execution_count": 16,
     "metadata": {},
     "output_type": "execute_result"
    }
   ],
   "source": [
    "'''\n",
    "q = 8380417\n",
    "d = 13\n",
    "tau = 39\n",
    "challenge netropy = 192\n",
    "gamma1 = 2^17\n",
    "gamma2 = 95232\n",
    "(k, l) = (4, 4)\n",
    "eta = 2\n",
    "beta = 78\n",
    "omega = 80\n",
    "reps = 4.25\n",
    "'''"
   ]
  },
  {
   "cell_type": "code",
   "execution_count": 8,
   "id": "sustained-syndicate",
   "metadata": {},
   "outputs": [],
   "source": [
    "def Gen():\n",
    "    #01\n",
    "    zeta = os.urandom(32)\n",
    "    \n",
    "    #02\n",
    "    (rho, rhol, K) = H3(zeta)\n",
    "    \n",
    "    #03\n",
    "    A = ExpandA(rho)\n",
    "    Acirc = NTTmat(A)\n",
    "    \n",
    "    #04\n",
    "    (s1, s2) = ExpandS(rhol)\n",
    "    \n",
    "    #05\n",
    "    As1 = INTTvec(Acirc*NTTvec(s1))\n",
    "    t = As1 + s2\n",
    "    \n",
    "    #06\n",
    "    (t1, t0) = Power2Roundq(t,13)\n",
    "    \n",
    "    #07\n",
    "    tr = H(rho + t1)\n",
    "    \n",
    "    #08 \n",
    "    pk = (rho, t1)\n",
    "    sk = (rho, K, tr, s1, s2, t0)\n",
    "    return pk, sk   "
   ]
  },
  {
   "cell_type": "code",
   "execution_count": 2,
   "id": "printable-sword",
   "metadata": {},
   "outputs": [],
   "source": [
    "def Sign(sk, M):\n",
    "    sk = (rho, K, tr, s1, s2, t0)\n",
    "    \n",
    "    #09\n",
    "    A = ExpandA(rho)\n",
    "    Acirc = NTTmat(A)\n",
    "    \n",
    "    #10\n",
    "    mu = H(tr + M)\n",
    "    \n",
    "    #11\n",
    "    kappa = 0\n",
    "    z = 0; h = 0\n",
    "    \n",
    "    #12 \n",
    "    rhol = H(K + mu)\n",
    "    \n",
    "    #13\n",
    "    s1circ = NTTvec(s1)\n",
    "    s2circ = NTTvec(s2)\n",
    "    t0circ = NTTvec(t0)\n",
    "    while z == 0 & h == 0:\n",
    "        \n",
    "        #14\n",
    "        y = ExpandMask(rhol, kappa)\n",
    "        \n",
    "        #15\n",
    "        w = INTTvec(Acirc * NTTvec(y))\n",
    "        \n",
    "        #16\n",
    "        w1 = HighBitsq(w, 2 * 95232)\n",
    "        \n",
    "        #17\n",
    "        ctil = H(mu, w1)\n",
    "        \n",
    "        #18 \n",
    "        c = SampleInBall(ctil)\n",
    "        ccirc = NTT(c)\n",
    "        \n",
    "        #19\n",
    "        cs1 = INTTvec(ccirc*s1circ)\n",
    "        z = y + cs1\n",
    "        \n",
    "        #20\n",
    "        cs2 = INTTvec(ccirc*s2circ)\n",
    "        r0 = LowBitsq(w-cs2, 2 * 95232)\n",
    "        \n",
    "        #21 \n",
    "        if size_of_elements_bige(z, 2^17 - 78) | size_of_elements_bige(e0, 95232 - 78):\n",
    "            z = 0\n",
    "            h = 0\n",
    "        #22\n",
    "        else:\n",
    "            #23\n",
    "            ct0 = INTTvec(ccirc * t0circ)\n",
    "            h = MakeHintq(-ct0, w - cs2 + ct0, 2 * 95232)\n",
    "            #24\n",
    "            if size_of_elements_bige(ct0 , 95232) | number_of_1s_big(h, 80):\n",
    "                z = 0\n",
    "                h = 0\n",
    "        #25\n",
    "        kappa = kappa + l\n",
    "    \n",
    "    #26\n",
    "    sigma = (ctil, z, h)\n",
    "    return sigma"
   ]
  },
  {
   "cell_type": "code",
   "execution_count": 6,
   "id": "circular-russia",
   "metadata": {},
   "outputs": [
    {
     "name": "stdout",
     "output_type": "stream",
     "text": [
      "3\n"
     ]
    }
   ],
   "source": [
    "def Verify(pk, M, sigma):\n",
    "    pk = (rho, t1)\n",
    "    sigma = (ctil, z, h)\n",
    "    #27    \n",
    "    A = ExpandA(rho)\n",
    "    Acirc = NTTmat(A)\n",
    "    \n",
    "    #28\n",
    "    mu = H(H(rho + t1) + M)\n",
    "    \n",
    "    #29\n",
    "    c = SampleInBall(ctil)\n",
    "    \n",
    "    #30\n",
    "    wl1 = UseHintq(h, INTTvec((Acirc * NTTvec(z)) - (NTTvec(c) * NTTvec(t1*(2^13)))))\n",
    "    \n",
    "    #31\n",
    "    return size_of_elements_low(z, 2^17 - 78) & ctil == H(mu + wl1) & number_of_1s_lowe(h, 80)"
   ]
  },
  {
   "cell_type": "code",
   "execution_count": null,
   "id": "qualified-scott",
   "metadata": {},
   "outputs": [],
   "source": [
    "pk, sk = Gen()\n",
    "\n",
    "M = os.urandom(32)\n",
    "\n",
    "sigma = Sign(sk, M)\n",
    "\n",
    "done = Verify(pk, M, sigma)\n",
    "\n",
    "print(done)"
   ]
  },
  {
   "cell_type": "code",
   "execution_count": 26,
   "id": "square-lecture",
   "metadata": {},
   "outputs": [],
   "source": [
    "def H(x):\n",
    "    digest = hashes.Hash(hashes.SHAKE256(int(32)))\n",
    "    digest.update(x)\n",
    "    return digest.finalize()"
   ]
  },
  {
   "cell_type": "code",
   "execution_count": 37,
   "id": "first-valley",
   "metadata": {},
   "outputs": [],
   "source": [
    "def H3(x):\n",
    "    digest = hashes.Hash(hashes.SHAKE256(int(96)))\n",
    "    digest.update(x)\n",
    "    buffer = digest.finalize()\n",
    "    return buffer[:32], buffer[32:64], buffer[-32:] "
   ]
  },
  {
   "cell_type": "code",
   "execution_count": null,
   "id": "choice-murder",
   "metadata": {},
   "outputs": [],
   "source": [
    "def ExpandA(x):\n",
    "    return 0"
   ]
  },
  {
   "cell_type": "code",
   "execution_count": null,
   "id": "charitable-copying",
   "metadata": {},
   "outputs": [],
   "source": [
    "def ExpandS(x):\n",
    "    return 0"
   ]
  },
  {
   "cell_type": "code",
   "execution_count": null,
   "id": "approved-plain",
   "metadata": {},
   "outputs": [],
   "source": [
    "def ExpandMask(x1, x2):\n",
    "    return 0"
   ]
  },
  {
   "cell_type": "code",
   "execution_count": 34,
   "id": "built-stations",
   "metadata": {},
   "outputs": [],
   "source": [
    "def NTTvec(a):\n",
    "    psi = []\n",
    "    \n",
    "    t = 2^13\n",
    "    \n",
    "    m = 1\n",
    "    \n",
    "    while m < 2^13:\n",
    "        t = t//2\n",
    "        \n",
    "        for i in range(m):\n",
    "            j1 = 2 * i * t\n",
    "            \n",
    "            j2 = j1 + t - 1\n",
    "            \n",
    "            S = 'sadsadasdsadasda'\n",
    "            \n",
    "            for j in range(j1, j2+1):\n",
    "                U = a[j]\n",
    "                V = a[j + t] * S\n",
    "                \n",
    "                a[j] = (U + V) % q\n",
    "                \n",
    "                a[j + t] = (U - V) % q\n",
    "                \n",
    "        m = m*2\n",
    "        \n",
    "    return a"
   ]
  },
  {
   "cell_type": "code",
   "execution_count": 1,
   "id": "cubic-revelation",
   "metadata": {},
   "outputs": [],
   "source": [
    "def INTTvec(a):\n",
    "    return 0"
   ]
  },
  {
   "cell_type": "code",
   "execution_count": null,
   "id": "exotic-enlargement",
   "metadata": {},
   "outputs": [],
   "source": [
    "def NTTmat(M):\n",
    "    return 0"
   ]
  },
  {
   "cell_type": "code",
   "execution_count": null,
   "id": "mineral-patch",
   "metadata": {},
   "outputs": [],
   "source": [
    "def INTTmat(M):\n",
    "    return 0"
   ]
  },
  {
   "cell_type": "code",
   "execution_count": 55,
   "id": "advanced-elizabeth",
   "metadata": {},
   "outputs": [],
   "source": [
    "def SampleInBall(rho):\n",
    "    random.seed(a=rho, version=2)\n",
    "    c = []\n",
    "    for i in range(256):\n",
    "        c.append(0)\n",
    "        \n",
    "    for i in range(256 - 39, 256):\n",
    "        j = random.randint(0, i)\n",
    "        s = random.randint(0, 1)\n",
    "        c[i] = c[j]\n",
    "        c[j] = (-1)^s\n",
    "        \n",
    "    return c"
   ]
  },
  {
   "cell_type": "code",
   "execution_count": 70,
   "id": "lasting-franchise",
   "metadata": {},
   "outputs": [],
   "source": [
    "def Power2Roundq(r, d):\n",
    "    r = r % 8380417\n",
    "    \n",
    "    r0 = r % (2^d)\n",
    "    r0 = r0 - (2^(d-1))\n",
    "    \n",
    "    return ((r - r0)//(2^d)), r0"
   ]
  },
  {
   "cell_type": "code",
   "execution_count": null,
   "id": "thousand-baking",
   "metadata": {},
   "outputs": [],
   "source": [
    "def MakeHintq(z, r, alpha):\n",
    "    r1 = HighBitsq(r, alpha)\n",
    "    v1 = HighBitsq(r + z, alpha)\n",
    "    \n",
    "    return r1 != v1"
   ]
  },
  {
   "cell_type": "code",
   "execution_count": null,
   "id": "infectious-french",
   "metadata": {},
   "outputs": [],
   "source": [
    "def UseHintq(h, r, alpha):\n",
    "    m = (8380417 - 1)//alpha\n",
    "    \n",
    "    (r1, r0) = Decomposeq(r, alpha)\n",
    "    \n",
    "    if h == 1 & r0 > 0:\n",
    "        return (r + 1) % m\n",
    "    \n",
    "    if h == 1 & r0 <= 0:\n",
    "        return (r - 1) % m\n",
    "    \n",
    "    return r1"
   ]
  },
  {
   "cell_type": "code",
   "execution_count": null,
   "id": "palestinian-woman",
   "metadata": {},
   "outputs": [],
   "source": [
    "def HighBitsq(r, alpha):\n",
    "    (r1, r0) = Decomposeq(r, alpha)\n",
    "    return r1"
   ]
  },
  {
   "cell_type": "code",
   "execution_count": null,
   "id": "soviet-tracker",
   "metadata": {},
   "outputs": [],
   "source": [
    "def LowBitsq(r, alpha):\n",
    "    (r1, r0) = Decomposeq(r, alpha)\n",
    "    return r0"
   ]
  },
  {
   "cell_type": "code",
   "execution_count": null,
   "id": "modern-directive",
   "metadata": {},
   "outputs": [],
   "source": [
    "def Decomposeq(r, alpha):\n",
    "    r = r % 8380417\n",
    "    \n",
    "    r0 = r % alpha\n",
    "    r0 = r0 - (alpha//2)\n",
    "    \n",
    "    if r - r0 == 8380417 - 1:\n",
    "        r1 = 0\n",
    "        r0 = r0 - 1\n",
    "    else:\n",
    "        r1 = (r - r0)//alpha\n",
    "        \n",
    "    return (r1, r0)"
   ]
  },
  {
   "cell_type": "code",
   "execution_count": 89,
   "id": "human-retrieval",
   "metadata": {},
   "outputs": [],
   "source": [
    "def size_of_elements_low(w, cond):\n",
    "    x = w % 8380417\n",
    "    x = x - (8380417//2)\n",
    "    if x < 0:\n",
    "        x = -x\n",
    "        \n",
    "    return x < cond"
   ]
  },
  {
   "cell_type": "code",
   "execution_count": 90,
   "id": "close-negotiation",
   "metadata": {},
   "outputs": [],
   "source": [
    "def size_of_elements_bige(w, cond):\n",
    "    x = w % 8380417\n",
    "    x = x - (8380417//2)\n",
    "    if x < 0:\n",
    "        x = -x\n",
    "        \n",
    "    return x >= cond"
   ]
  },
  {
   "cell_type": "code",
   "execution_count": 91,
   "id": "positive-timer",
   "metadata": {},
   "outputs": [],
   "source": [
    "def number_of_1s_big(w, cond):\n",
    "    counter = 0\n",
    "    aux = w\n",
    "    while aux > 0:\n",
    "        if aux % 2:\n",
    "            counter += 1\n",
    "        aux = aux // 2\n",
    "        \n",
    "    return counter > cond"
   ]
  },
  {
   "cell_type": "code",
   "execution_count": 92,
   "id": "numerous-frederick",
   "metadata": {},
   "outputs": [],
   "source": [
    "def number_of_1s_lowe(w, cond):\n",
    "    counter = 0\n",
    "    aux = w\n",
    "    while aux > 0:\n",
    "        if aux % 2:\n",
    "            counter += 1\n",
    "        aux = aux // 2\n",
    "        \n",
    "    return counter <= cond"
   ]
  }
 ],
 "metadata": {
  "kernelspec": {
   "display_name": "SageMath 9.2",
   "language": "sage",
   "name": "sagemath"
  },
  "language_info": {
   "codemirror_mode": {
    "name": "ipython",
    "version": 3
   },
   "file_extension": ".py",
   "mimetype": "text/x-python",
   "name": "python",
   "nbconvert_exporter": "python",
   "pygments_lexer": "ipython3",
   "version": "3.7.10"
  }
 },
 "nbformat": 4,
 "nbformat_minor": 5
}
