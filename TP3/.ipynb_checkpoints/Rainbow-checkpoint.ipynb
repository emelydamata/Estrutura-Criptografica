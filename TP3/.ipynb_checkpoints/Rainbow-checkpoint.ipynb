{
 "cells": [
  {
   "cell_type": "code",
   "execution_count": 1,
   "id": "authentic-belle",
   "metadata": {},
   "outputs": [],
   "source": [
    "'''\n",
    "Generation of a Rainbow key pair over GF(q) \n",
    "public key is stored in public_key.txt\n",
    "private key is stored in private_key.txt\n",
    "'''\n",
    "\n",
    "q = 4 # field size\n",
    "parameters = [3,2,2]; # Rainbow parameters (v_1, o_1, ..., o_u)\n",
    "u = len(parameters) - 1\n",
    "\n",
    "v = []\n",
    "o = []\n",
    "\n",
    "v.append(parameters[0])\n",
    "\n",
    "for i in range(u):\n",
    "    o.append(parameters[i+1])\n",
    "    v.append(v[i] + o[i])\n",
    "\n",
    "n = v[u]\n",
    "m = n - v[0]\n",
    "\n",
    "\n",
    "_GF = GF(q)\n",
    "_Vn = VectorSpace(_GF,n)\n",
    "_Vm = VectorSpace(_GF,m)\n",
    "\n",
    "_P = PolynomialRing(_GF, n, 'x')\n",
    "_Pol = PolynomialRing(_P, n, 'x')\n"
   ]
  },
  {
   "cell_type": "code",
   "execution_count": 24,
   "id": "eastern-juice",
   "metadata": {},
   "outputs": [
    {
     "ename": "TypeError",
     "evalue": "'sage.symbolic.expression.Expression' object is not subscriptable",
     "output_type": "error",
     "traceback": [
      "\u001b[0;31m---------------------------------------------------------------------------\u001b[0m",
      "\u001b[0;31mTypeError\u001b[0m                                 Traceback (most recent call last)",
      "\u001b[0;32m<ipython-input-24-90b15682892d>\u001b[0m in \u001b[0;36m<module>\u001b[0;34m\u001b[0m\n\u001b[1;32m     15\u001b[0m     \u001b[0mT\u001b[0m\u001b[0;34m.\u001b[0m\u001b[0mappend\u001b[0m\u001b[0;34m(\u001b[0m\u001b[0mInteger\u001b[0m\u001b[0;34m(\u001b[0m\u001b[0;36m1\u001b[0m\u001b[0;34m)\u001b[0m\u001b[0;34m)\u001b[0m\u001b[0;34m\u001b[0m\u001b[0;34m\u001b[0m\u001b[0m\n\u001b[1;32m     16\u001b[0m     \u001b[0;32mfor\u001b[0m \u001b[0mj\u001b[0m \u001b[0;32min\u001b[0m \u001b[0mrange\u001b[0m\u001b[0;34m(\u001b[0m\u001b[0mn\u001b[0m\u001b[0;34m)\u001b[0m\u001b[0;34m:\u001b[0m\u001b[0;34m\u001b[0m\u001b[0;34m\u001b[0m\u001b[0m\n\u001b[0;32m---> 17\u001b[0;31m         \u001b[0mT\u001b[0m\u001b[0;34m[\u001b[0m\u001b[0mi\u001b[0m\u001b[0;34m]\u001b[0m \u001b[0;34m=\u001b[0m \u001b[0mT\u001b[0m\u001b[0;34m[\u001b[0m\u001b[0mi\u001b[0m\u001b[0;34m]\u001b[0m \u001b[0;34m+\u001b[0m \u001b[0;34m(\u001b[0m\u001b[0mMT\u001b[0m\u001b[0;34m[\u001b[0m\u001b[0mi\u001b[0m\u001b[0;34m]\u001b[0m\u001b[0;34m[\u001b[0m\u001b[0mj\u001b[0m\u001b[0;34m]\u001b[0m \u001b[0;34m*\u001b[0m \u001b[0mx\u001b[0m\u001b[0;34m[\u001b[0m\u001b[0mj\u001b[0m\u001b[0;34m]\u001b[0m\u001b[0;34m)\u001b[0m\u001b[0;34m\u001b[0m\u001b[0;34m\u001b[0m\u001b[0m\n\u001b[0m\u001b[1;32m     18\u001b[0m     \u001b[0mT\u001b[0m\u001b[0;34m[\u001b[0m\u001b[0mi\u001b[0m\u001b[0;34m]\u001b[0m \u001b[0;34m=\u001b[0m \u001b[0mT\u001b[0m\u001b[0;34m[\u001b[0m\u001b[0mi\u001b[0m\u001b[0;34m]\u001b[0m \u001b[0;34m+\u001b[0m \u001b[0mcT\u001b[0m\u001b[0;34m[\u001b[0m\u001b[0mi\u001b[0m\u001b[0;34m]\u001b[0m\u001b[0;34m\u001b[0m\u001b[0;34m\u001b[0m\u001b[0m\n",
      "\u001b[0;31mTypeError\u001b[0m: 'sage.symbolic.expression.Expression' object is not subscriptable"
     ]
    }
   ],
   "source": [
    "# key generation\n",
    "# affine map T\n",
    "\n",
    "MT = random_matrix(_GF, n, n)\n",
    "\n",
    "while MT.is_invertible() == 0:\n",
    "    MT = random_matrix(_GF, n, n)\n",
    "    \n",
    "# cT:= Random(Vn);\n",
    "cT = random_vector(_GF, n);\n",
    "\n",
    "T = []\n",
    "\n",
    "for i in range(n):\n",
    "    # T[i]:=P!0;\n",
    "    # TODO 1\n",
    "    for j in range(n):\n",
    "        T[i] = T[i] + (MT[i][j] * x[j])\n",
    "    T[i] = T[i] + cT[i]"
   ]
  },
  {
   "cell_type": "code",
   "execution_count": null,
   "id": "orange-airfare",
   "metadata": {},
   "outputs": [],
   "source": [
    "# central map Q \n",
    "Qc = []\n",
    "Q = []\n",
    "\n",
    "for greatloop in range(u):\n",
    "    for loop in range(v[greatloop] - v[0] , v[greatloop + 1] - v[0]): # greatloop-th Layer\n",
    "        '''Q[loop]:=Pol!0;''' # Q.append(???)\n",
    "        # TODO 1\n",
    "        for i in range(v[greatloop]):\n",
    "            for j in range(v[greatloop + 1]):\n",
    "                # TODO 1, 2\n",
    "                '''Q[loop]:=Q[loop] + Random(GF)*Pol.i*Pol.j;''' # Q[loop] = Q[loop] + ???*???*???\n",
    "        \n",
    "        for i in range(v[greatloop + 1]):\n",
    "            #TODO 1, 2\n",
    "            '''Q[loop]:= Q[loop] + Random(GF)*Pol.i;''' # Q[loop] = Q[loop] + ???*???\n",
    "        # TODO 1,2    \n",
    "        '''Q[loop]:=Q[loop]+Random(GF);''' # Q[loop] = Q[loop] + ???"
   ]
  },
  {
   "cell_type": "code",
   "execution_count": null,
   "id": "consecutive-greeting",
   "metadata": {},
   "outputs": [],
   "source": [
    "# affine map S \n",
    "\n",
    "    \n",
    "MSF = random_matrix(_GF, m, m)\n",
    "\n",
    "while MSF.is_invertible() == 0:\n",
    "    MSF = random_matrix(_GF, m, m)\n",
    "    \n",
    "cS = Matrix(_Pol, m, 1, )\n",
    "    \n",
    "'''cS:=Matrix(Pol,m,1,ChangeUniverse(Eltseq(Random(Vm)),Pol));'''\n",
    "'''MS:=Matrix(Pol,m,m,ChangeUniverse(Eltseq(MSF),Pol));'''"
   ]
  },
  {
   "cell_type": "code",
   "execution_count": null,
   "id": "announced-sheffield",
   "metadata": {},
   "outputs": [],
   "source": []
  },
  {
   "cell_type": "code",
   "execution_count": null,
   "id": "equal-slave",
   "metadata": {},
   "outputs": [],
   "source": []
  },
  {
   "cell_type": "code",
   "execution_count": null,
   "id": "hired-packet",
   "metadata": {},
   "outputs": [],
   "source": []
  },
  {
   "cell_type": "code",
   "execution_count": null,
   "id": "reflected-necessity",
   "metadata": {},
   "outputs": [],
   "source": []
  },
  {
   "cell_type": "code",
   "execution_count": null,
   "id": "recovered-swaziland",
   "metadata": {},
   "outputs": [],
   "source": []
  },
  {
   "cell_type": "code",
   "execution_count": null,
   "id": "baking-newcastle",
   "metadata": {},
   "outputs": [],
   "source": []
  }
 ],
 "metadata": {
  "kernelspec": {
   "display_name": "SageMath 9.2",
   "language": "sage",
   "name": "sagemath"
  },
  "language_info": {
   "codemirror_mode": {
    "name": "ipython",
    "version": 3
   },
   "file_extension": ".py",
   "mimetype": "text/x-python",
   "name": "python",
   "nbconvert_exporter": "python",
   "pygments_lexer": "ipython3",
   "version": "3.7.10"
  }
 },
 "nbformat": 4,
 "nbformat_minor": 5
}
