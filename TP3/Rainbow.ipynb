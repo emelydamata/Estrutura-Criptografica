{
 "cells": [
  {
   "cell_type": "markdown",
   "id": "democratic-exercise",
   "metadata": {},
   "source": [
    "Dúvidas:\n",
    "#### 1 \n",
    "GaloisField(q) é o mesmo que GF(q)\\[\\]?\n",
    "#### 2\n",
    "VectorSpace(GF, n) ?\n",
    "#### 3\n",
    "P<\\[x\\]> posso deixar \\[x\\] ou tenho que trocar por outra coisa?"
   ]
  },
  {
   "cell_type": "code",
   "execution_count": null,
   "id": "authentic-belle",
   "metadata": {},
   "outputs": [],
   "source": [
    "'''\n",
    "Generation of a Rainbow key pair over GF(q) \n",
    "public key is stored in public_key.txt\n",
    "private key is stored in private_key.txt\n",
    "'''\n",
    "\n",
    "q = 4 # field size\n",
    "parameters = [3,2,2]; # Rainbow parameters (v_1, o_1, ..., o_u)\n",
    "u = len(parameters) - 1\n",
    "\n",
    "v = []\n",
    "o = []\n",
    "\n",
    "v.append(parameters[0])\n",
    "\n",
    "for i in range(u):\n",
    "    o.append(parameters[i+1])\n",
    "    v.append(v[i] + o[i])\n",
    "\n",
    "n = v[u]\n",
    "m = n - v[0]\n",
    "\n",
    "'''\n",
    "GF<w>:=GaloisField(q);\n",
    "Vn:=VectorSpace(GF,n);\n",
    "Vm:=VectorSpace(GF,m);\n",
    "\n",
    "P<[x]>:=PolynomialRing(GF,n);\n",
    "Pol<[y]>:=PolynomialRing(P,n);\n",
    "'''"
   ]
  },
  {
   "cell_type": "markdown",
   "id": "average-perfume",
   "metadata": {},
   "source": [
    "#### 4 \n",
    "Substituto para RandomMatrix(GF, n, n)\n",
    "#### 5\n",
    "Substituto para isInvertible\n",
    "#### 6 \n",
    "cT é um membro aleatório do espaço de vectores em GF, n <br>\n",
    "como obter?\n",
    "#### 7\n",
    "O que quer dizer o operador !"
   ]
  },
  {
   "cell_type": "code",
   "execution_count": null,
   "id": "eastern-juice",
   "metadata": {},
   "outputs": [],
   "source": [
    "# key generation\n",
    "# affine map T \n",
    "\n",
    "'''MT:=RandomMatrix(GF,n,n);'''\n",
    "'''while isInvertible(MT) == 0:'''\n",
    "    '''MT:=RandomMatrix(GF,n,n);'''\n",
    "    \n",
    "'''cT:= Random(Vn);'''\n",
    "\n",
    "T = []\n",
    "\n",
    "for i in range(n):\n",
    "    '''T[i]:=P!0;''' # T.append(???)\n",
    "    for j in range(n)\n",
    "        T[i] = T[i] + (MT[i][j] * x[j])\n",
    "    T[i] = T[i] + cT[i]"
   ]
  },
  {
   "cell_type": "markdown",
   "id": "imposed-agriculture",
   "metadata": {},
   "source": [
    "#### 8 \n",
    "Como obter Random(GF)\n",
    "#### 9\n",
    "O que é Pol.i? "
   ]
  },
  {
   "cell_type": "code",
   "execution_count": null,
   "id": "orange-airfare",
   "metadata": {},
   "outputs": [],
   "source": [
    "# central map Q \n",
    "Qc = []\n",
    "Q = []\n",
    "\n",
    "for greatloop in range(u):\n",
    "    for loop in range(v[greatloop] - v[0] , v[greatloop + 1] - v[0]): # greatloop-th Layer\n",
    "        '''Q[loop]:=Pol!0;''' # Q.append(???)\n",
    "        for i in range(v[greatloop]):\n",
    "            for j in range(v[greatloop + 1]):\n",
    "                '''Q[loop]:=Q[loop] + Random(GF)*Pol.i*Pol.j;''' # Q[loop] = Q[loop] + ???*???*???\n",
    "        \n",
    "        for i in range(v[greatloop + 1]):\n",
    "            '''Q[loop]:= Q[loop] + Random(GF)*Pol.i;''' # Q[loop] = Q[loop] + ???*???\n",
    "            \n",
    "        '''Q[loop]:=Q[loop]+Random(GF);''' # Q[loop] = Q[loop] + ???"
   ]
  },
  {
   "cell_type": "markdown",
   "id": "golden-omega",
   "metadata": {},
   "source": [
    "#### 10\n",
    "Substituto para Matrix\n",
    "#### 11\n",
    "Substituto ou o que é ChangeUniverse\n",
    "#### 12 \n",
    "O que é Eltseq"
   ]
  },
  {
   "cell_type": "code",
   "execution_count": null,
   "id": "consecutive-greeting",
   "metadata": {},
   "outputs": [],
   "source": [
    "# affine map S \n",
    "\n",
    "'''MSF:=RandomMatrix(GF,m,m);'''\n",
    "'''while isInvertible(MSF) == 0:'''\n",
    "    '''MSF:=RandomMatrix(GF,m,m);'''\n",
    "    \n",
    "'''cS:=Matrix(Pol,m,1,ChangeUniverse(Eltseq(Random(Vm)),Pol));'''\n",
    "'''MS:=Matrix(Pol,m,m,ChangeUniverse(Eltseq(MSF),Pol));'''"
   ]
  },
  {
   "cell_type": "markdown",
   "id": "adolescent-possible",
   "metadata": {},
   "source": [
    "#### 13\n",
    "Substituto para ZeroMatrix(pol, m, 1)\n",
    "#### 14\n",
    "Substituto para Evaluate\n",
    "#### 15 \n",
    "Substituto para Monomial Coefficient"
   ]
  },
  {
   "cell_type": "code",
   "execution_count": null,
   "id": "announced-sheffield",
   "metadata": {},
   "outputs": [],
   "source": [
    "# public key Pk \n",
    "'''QT:=ZeroMatrix(Pol,m,1);'''\n",
    "\n",
    "for i in range(m):\n",
    "    '''QT[i][1]:=Evaluate(Q[i],y[1], T[1]);'''\n",
    "    for j in range(1,n):\n",
    "        '''QT[i][1]:=Evaluate(QT[i][1],y[j], T[j]);'''\n",
    "\n",
    "Pk = MS*QT+cS\n",
    "\n",
    "D = [] \n",
    "for i in range(m):\n",
    "    '''D[i]:=MonomialCoefficient(Pk[i][1],1)'''\n",
    "        \n",
    "Pk = D"
   ]
  },
  {
   "cell_type": "markdown",
   "id": "coupled-server",
   "metadata": {},
   "source": [
    "checked"
   ]
  },
  {
   "cell_type": "code",
   "execution_count": null,
   "id": "equal-slave",
   "metadata": {},
   "outputs": [],
   "source": [
    "# Output \n",
    "print(\"************************************************* \\n\")\n",
    "print(\"*** Rainbow Signature Scheme - Key Generation *** \\n\")\n",
    "print(\"************************************************* \\n \\n\")\n",
    "\n",
    "print(\"What follows is the public_key\\n\")\n",
    "print(\"q = \"); print(q); print(\"\\n\")\n",
    "print(\"m = \"); print(m); print(\"\\n\")\n",
    "print(\"n = \"); print(n); print(\"\\n\")\n",
    "print(\"parameters = \"); print(parameters); print(\"\\n\")\n",
    "print(\"Pk = \"); print(D); print(\"\\n\\n\")\n",
    " \n",
    "print(\"What follows is the private_key\\n\")\n",
    "print(\"q = \"); print(q); print(\"\\n\")\n",
    "print(\"v = \"); print(v); print(\" \\n\")\n",
    "print(\"n = \"); print(n); print(\" \\n\")\n",
    "print(\"m = \"); print(m); print(\" \\n\")\n",
    "print(\"Q = \"); print(Q); print(\" \\n\")\n",
    "print(\"MT = \"); print(Eltseq(MT)); print(\" \\n\")\n",
    "print(\"cT = \"); print(Eltseq(cT)); print(\" \\n\")\n",
    "print(\"MS = \"); print(Eltseq(MS)); print(\" \\n\")\n",
    "print(\"cS = \"); print(Eltseq(cS)); print(\" \\n\")"
   ]
  },
  {
   "cell_type": "markdown",
   "id": "controlling-dancing",
   "metadata": {},
   "source": [
    "#### 16\n",
    "Substituto para IsConsistent"
   ]
  },
  {
   "cell_type": "code",
   "execution_count": null,
   "id": "hired-packet",
   "metadata": {},
   "outputs": [],
   "source": [
    "'''\n",
    "reads in private key from private_key.txt\n",
    "generates Rainbow signature of a random hash value\n",
    "hash value and signature be stored in signature.txt\n",
    "but here passed on directly to last part of program\n",
    "'''\n",
    "\n",
    "'''\n",
    "Hashspace:=VectorSpace(GF,m);\n",
    "Signspace:=VectorSpace(GF,n);\n",
    "\n",
    "MT:=Matrix(GF,n,n,Eltseq(MT));\n",
    "MS:=Matrix(GF,m,m,Eltseq(MS));\n",
    "cT:=Signspace!(Eltseq(cT));\n",
    "cS:=Hashspace!(Eltseq(cS));'''\n",
    "\n",
    "u = len(v) - 1\n",
    "\n",
    "'''hashvalue:=Random(Hashspace);'''\n",
    "print(\"hashvalue = \"); print(Eltseq(hashvalue)); print(\"\\n\\n\")\n",
    "\n",
    "'''_,x,_:=IsConsistent(Transpose(MS), cS); # invert affine map S \n",
    "_,x,_:=IsConsistent(Transpose(MS), hashvalue - cS); # invert affine map S '''\n",
    "\n",
    "sequ = []"
   ]
  },
  {
   "cell_type": "markdown",
   "id": "improved-hazard",
   "metadata": {},
   "source": [
    "#### 17 \n",
    "Operador cat\n",
    "#### 18\n",
    "MonomialCoefficient ?"
   ]
  },
  {
   "cell_type": "code",
   "execution_count": null,
   "id": "reflected-necessity",
   "metadata": {},
   "outputs": [],
   "source": [
    "#invert central map Q \n",
    "tr = False\n",
    "\n",
    "while tr == False:\n",
    "    Q1 = Q\n",
    "    sequ = []\n",
    "    \n",
    "    # guessing Vinegar variables and simplification of the system\n",
    "    \n",
    "    for i in range(v[0]):\n",
    "        '''sequ[i]:=Random(GF);'''\n",
    "        for loop in range(m):\n",
    "            '''Q1[loop]:=Evaluate(Q1[loop],y[i],sequ[i]);'''\n",
    "    \n",
    "    for i in range(1, u + 1):\n",
    "        # solving the linear systems\n",
    "        '''OSpace:=VectorSpace(GF,v[i]-v[i-1]);'''\n",
    "        Qseq = []; c_Q1 = []\n",
    "        \n",
    "        for loop in range(v[i - 1] - v[0], v[i] - v[0]):\n",
    "            '''c_Q1:= c_Q1 cat [MonomialCoefficient(Q1[loop],1)];'''\n",
    "            for j in range(v[i - 1], v[i]):\n",
    "                '''Qseq:=Qseq cat [MonomialCoefficient(Q1[loop],y[j])];'''\n",
    "                \n",
    "        '''MatrixQ1:=Matrix(GF,v[i]-v[i-1],v[i]-v[i-1],Qseq);'''\n",
    "        '''c_Q1:=OSpace!(c_Q1);'''\n",
    "        \n",
    "        # solution vector\n",
    "        \n",
    "        x1 = []\n",
    "        \n",
    "        for k in range(v[i] - v[i - 1]):\n",
    "            x1.append(x[k + v[i - 1] - v[0]])\n",
    "            \n",
    "        '''tr,y1,_:=IsConsistent(Transpose(MatrixQ1),OSpace!(x1)-c_Q1);'''\n",
    "        \n",
    "        if tr == True :\n",
    "            print(\"Solution for Layer \"); print(i - 1); print(\" \"); print(y1); print(\"\\n\")\n",
    "        else :\n",
    "            print(\"No Solution for Layer \"); print(i - 1); print(\": Choose other Vinegar Variables\\n\")\n",
    "            break\n",
    "            \n",
    "        '''sequ:=sequ cat Eltseq(y1);'''\n",
    "        \n",
    "        # simplify the system by substituting the values of the oil variables\n",
    "        \n",
    "        for loop in range(v[i] - v[0] - 1, m):\n",
    "            for j in range(v[i - 1], v[i]):\n",
    "                '''Q1[loop]:=Evaluate(Q1[loop],y[j],sequ[j]);'''\n",
    "                \n",
    "'''y:=Signspace!(sequ);'''\n",
    "\n",
    "'''_,signature,_:=IsConsistent(Transpose(MT),y-cT);''' # invert T "
   ]
  },
  {
   "cell_type": "markdown",
   "id": "advanced-northeast",
   "metadata": {},
   "source": [
    "checked"
   ]
  },
  {
   "cell_type": "code",
   "execution_count": null,
   "id": "recovered-swaziland",
   "metadata": {},
   "outputs": [],
   "source": [
    "# Output\n",
    "signature = Eltseq(signature)\n",
    "print(\"signature = \"); print(signature); print(\"\\n\\n\")"
   ]
  },
  {
   "cell_type": "markdown",
   "id": "subsequent-treat",
   "metadata": {},
   "source": [
    "checked"
   ]
  },
  {
   "cell_type": "code",
   "execution_count": null,
   "id": "baking-newcastle",
   "metadata": {},
   "outputs": [],
   "source": [
    "print(\"hashvalue = \"); print(Eltseq(hashvalue)); print(\"\\n\")\n",
    "\n",
    "'''hash2:= Evaluate( Pk,signature );\n",
    "\n",
    "if Eltseq(hashvalue) eq hash2 then\n",
    "\tprintf \"CORRECT!\";\n",
    "else\n",
    "\tprintf \"FALSE!\"; '''   \n"
   ]
  }
 ],
 "metadata": {
  "kernelspec": {
   "display_name": "SageMath 9.2",
   "language": "sage",
   "name": "sagemath"
  },
  "language_info": {
   "codemirror_mode": {
    "name": "ipython",
    "version": 3
   },
   "file_extension": ".py",
   "mimetype": "text/x-python",
   "name": "python",
   "nbconvert_exporter": "python",
   "pygments_lexer": "ipython3",
   "version": "3.7.10"
  }
 },
 "nbformat": 4,
 "nbformat_minor": 5
}
