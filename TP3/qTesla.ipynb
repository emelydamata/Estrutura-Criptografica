{
 "cells": [
  {
   "cell_type": "markdown",
   "id": "compatible-extreme",
   "metadata": {},
   "source": [
    "# Implementação qTesla\n",
    "\n",
    "Abaixo temos a implementação do esquema de assinaturas pós-quantico qTesla conforme as especificações da segunda submissão para o concurso do NIST."
   ]
  },
  {
   "cell_type": "code",
   "execution_count": 24,
   "id": "annoying-disney",
   "metadata": {},
   "outputs": [],
   "source": [
    "import os\n",
    "import random\n",
    "\n",
    "from cryptography.hazmat.primitives import hashes"
   ]
  },
  {
   "cell_type": "markdown",
   "id": "western-stomach",
   "metadata": {},
   "source": [
    "#### Parâmetros do qTesla\n",
    "Abaixo temos um dos conjuntos pré definidos de parâmetros para o qTesla."
   ]
  },
  {
   "cell_type": "code",
   "execution_count": 34,
   "id": "neutral-incident",
   "metadata": {},
   "outputs": [
    {
     "data": {
      "text/plain": [
       "'\\nLambda = 95\\nkappa = 256\\nn = 1024\\nk = 4\\nq = 343576577\\nsigma = 8.5\\nLE = 554, 2.61\\nLS = 554, 2.61\\nE = 554\\nS = 554\\nB = 2^19 - 1\\nd = 22\\nh = 25\\nbGenA = 108\\nrateXOF = 168\\nCDTParams \\nn: 64 \\ncdt_v: 63 beta: 78 624\\n'"
      ]
     },
     "execution_count": 34,
     "metadata": {},
     "output_type": "execute_result"
    }
   ],
   "source": [
    "'''\n",
    "Lambda = 95\n",
    "kappa = 256\n",
    "n = 1024\n",
    "k = 4\n",
    "q = 343576577\n",
    "sigma = 8.5\n",
    "LE = 554, 2.61\n",
    "LS = 554, 2.61\n",
    "E = 554\n",
    "S = 554\n",
    "B = 2^19 - 1\n",
    "d = 22\n",
    "h = 25\n",
    "bGenA = 108\n",
    "rateXOF = 168\n",
    "CDTParams \n",
    "beta = 64\n",
    "precision 63\n",
    "t = 78 \n",
    "size = 624\n",
    "'''"
   ]
  },
  {
   "cell_type": "markdown",
   "id": "agricultural-strain",
   "metadata": {},
   "source": [
    "### Geração do Par de Chaves"
   ]
  },
  {
   "cell_type": "code",
   "execution_count": 17,
   "id": "civil-slovakia",
   "metadata": {},
   "outputs": [],
   "source": [
    "def gen():\n",
    "    # 1\n",
    "    counter = 1\n",
    "    # 2\n",
    "    pre_seed = os.urandom(32)\n",
    "    # 3\n",
    "    seed = PRF1(pre_seed)\n",
    "    seeda = seed[len(seed) - 2]\n",
    "    seedy = seed[len(seed) - 1]\n",
    "    # 4\n",
    "    a = GenA(seeda)\n",
    "    \n",
    "    # 6\n",
    "    s = GaussSampler(seed[0], counter)\n",
    "    # 7\n",
    "    counter += 1\n",
    "    \n",
    "    # 5\n",
    "    while checkS(s) != 0:\n",
    "        # 6\n",
    "        s = GaussSampler(seed[0], counter)\n",
    "        # 7\n",
    "        counter += 1\n",
    "    \n",
    "    # 8\n",
    "    e = []\n",
    "    t = []\n",
    "    # 9\n",
    "    for i in range(1, 4+1):\n",
    "        # 11\n",
    "        e.append(GaussSampler(seed[i], counter))\n",
    "        # 12\n",
    "        counter += 1\n",
    "        # 13\n",
    "        while checkE(e[i]) != 0:\n",
    "            # 11\n",
    "            e[i] = GaussSampler(seed[i], counter)\n",
    "            # 12\n",
    "            counter += 1\n",
    "        # 14\n",
    "        t.append((a[i - 1]*s + e[i]) % 343576577)\n",
    "        \n",
    "    g = G(t)\n",
    "    \n",
    "    sk = (s, e, seeda, seedy, g)\n",
    "    \n",
    "    pk = (t, seeda)\n",
    "             \n",
    "    return sk, pk"
   ]
  },
  {
   "cell_type": "markdown",
   "id": "becoming-funds",
   "metadata": {},
   "source": [
    "### Assinatura "
   ]
  },
  {
   "cell_type": "code",
   "execution_count": 3,
   "id": "similar-rocket",
   "metadata": {},
   "outputs": [],
   "source": [
    "def sign(m, sk):\n",
    "    (s, e, seeda, seedy, g) = sk\n",
    "    # 1\n",
    "    counter = 1\n",
    "    # 2\n",
    "    r = os.urandom(32)\n",
    "    # 3\n",
    "    rand = PRF2(seedy, r, G(m))\n",
    "    \n",
    "    stop = 0\n",
    "    while stop != 1:\n",
    "        # 4\n",
    "        y = ySampler(rand, counter)\n",
    "        # 5\n",
    "        a = GenA(seeda)\n",
    "        # 6\n",
    "        v = []\n",
    "        for i in range(4):\n",
    "            # 7\n",
    "            v.append((a[i] * y) % 343576577)\n",
    "            v[i] = v[i] - (343576577//2)\n",
    "    \n",
    "        # 9\n",
    "        cl = H(v, G(m), g)\n",
    "        # 10\n",
    "        c = Enc(cl)\n",
    "        # 11\n",
    "        z = y + s*c\n",
    "        stop = 1\n",
    "        # 12 TODO condition1 \n",
    "        if condition1 :\n",
    "            counter += 1\n",
    "            stop = 0\n",
    "            \n",
    "        # 16\n",
    "        w = []\n",
    "        stop = 1\n",
    "        for i in range(4):\n",
    "            # 17\n",
    "            w.append((v[i] - (e[i]*c)) % 343576577)\n",
    "            w[i] = w[i] - (343576577//2)\n",
    "            # 18 TODO condition2, condition3\n",
    "            if condition2 | condition3:\n",
    "                # 19\n",
    "                counter += 1\n",
    "                # 20\n",
    "                stop = 0\n",
    "        \n",
    "    return (z, cl)"
   ]
  },
  {
   "cell_type": "markdown",
   "id": "directed-future",
   "metadata": {},
   "source": [
    "### Verificação"
   ]
  },
  {
   "cell_type": "code",
   "execution_count": 4,
   "id": "existing-playback",
   "metadata": {},
   "outputs": [],
   "source": [
    "def verify(m, signature, pk):\n",
    "    (z, cl) = signature\n",
    "    (t, seeda) = pk\n",
    "    # 1\n",
    "    c = Enc(cl)\n",
    "    # 2\n",
    "    a = GenA(seeda)\n",
    "    \n",
    "    w = []\n",
    "    # 3\n",
    "    for i in range(k):\n",
    "        # 4\n",
    "        w.append((((a[i]*z) - (t[i]*c)) % 343576577))\n",
    "        w[i] = w[i] - (343576577//2)\n",
    "        \n",
    "    # 6 TODO condition1\n",
    "    if condition1 | cl != H(w, G(m), G(t)):\n",
    "        return -1\n",
    "    return 0"
   ]
  },
  {
   "cell_type": "markdown",
   "id": "unnecessary-cassette",
   "metadata": {},
   "source": [
    "### Execução de um Teste"
   ]
  },
  {
   "cell_type": "code",
   "execution_count": null,
   "id": "lesbian-linux",
   "metadata": {},
   "outputs": [],
   "source": [
    "pk, sk = Gen()\n",
    "\n",
    "M = os.urandom(32)\n",
    "\n",
    "signature = Sign(M, sk)\n",
    "\n",
    "done = Verify(M, signature, pk)\n",
    "\n",
    "if done == 0:\n",
    "    print('True')\n",
    "else:\n",
    "    print('False')"
   ]
  },
  {
   "cell_type": "markdown",
   "id": "sitting-zimbabwe",
   "metadata": {},
   "source": [
    "### PRF1"
   ]
  },
  {
   "cell_type": "code",
   "execution_count": 32,
   "id": "indonesian-processing",
   "metadata": {},
   "outputs": [],
   "source": [
    "def PRF1(pre_seed):\n",
    "    n = 4+3\n",
    "    digest = hashes.Hash(hashes.SHAKE128(int((256*n)//8)))\n",
    "    digest.update(pre_seed)\n",
    "    buffer = digest.finalize()\n",
    "    \n",
    "    n = 32\n",
    "    \n",
    "    return [buffer[x: x+n] for x in range(0, len(buffer), n)]"
   ]
  },
  {
   "cell_type": "markdown",
   "id": "assured-payment",
   "metadata": {},
   "source": [
    "### G"
   ]
  },
  {
   "cell_type": "code",
   "execution_count": 25,
   "id": "infectious-enlargement",
   "metadata": {},
   "outputs": [],
   "source": [
    "def G(string):\n",
    "    digest = hashes.Hash(hashes.SHAKE128(int(40))\n",
    "    digest.update(string)\n",
    "    return digest.finalize()"
   ]
  },
  {
   "cell_type": "markdown",
   "id": "apart-tutorial",
   "metadata": {},
   "source": [
    "### PRF2"
   ]
  },
  {
   "cell_type": "code",
   "execution_count": 7,
   "id": "faced-danger",
   "metadata": {},
   "outputs": [],
   "source": [
    "def PRF2(seedy, r, m):\n",
    "    string = seedy + r + m\n",
    "    digest = hashes.Hash(hashes.SHAKE128(int(32))\n",
    "    digest.update(string)\n",
    "    return digest.finalize()"
   ]
  },
  {
   "cell_type": "markdown",
   "id": "lined-capacity",
   "metadata": {},
   "source": [
    "### GenA"
   ]
  },
  {
   "cell_type": "code",
   "execution_count": 8,
   "id": "organic-screening",
   "metadata": {},
   "outputs": [],
   "source": [
    "def GenA(seeda):\n",
    "    D = 0\n",
    "    \n",
    "    b = logb(q,2) / 8\n",
    "    b = b.ceil()\n",
    "    bl = 108\n",
    "    \n",
    "    c = cSHAKE128(seeda, 168*bl, D)\n",
    "    \n",
    "    i = 0\n",
    "    pos = 0\n",
    "    while(i < 4096):\n",
    "        x = (168*bl) // b \n",
    "        if pos > x - 1:\n",
    "            D += 1\n",
    "            pos = 0\n",
    "            bl = 1\n",
    "            c = cSHAKE128(seeda, 168*bl, D)\n",
    "            \n",
    "        x = logb(q,2)\n",
    "        x = x.ceil()\n",
    "        x = 2^x\n",
    "        x = c[pos] % x\n",
    "        if x < 343576577:\n",
    "            # TODO linha 10\n",
    "            i += 1\n",
    "        pos += 1\n",
    "            \n",
    "    return a"
   ]
  },
  {
   "cell_type": "markdown",
   "id": "found-finish",
   "metadata": {},
   "source": [
    "### GaussSampler"
   ]
  },
  {
   "cell_type": "code",
   "execution_count": 9,
   "id": "minus-balance",
   "metadata": {},
   "outputs": [],
   "source": [
    "def GaussSampler(seed, D):\n",
    "    Dl = D * (2^8)\n",
    "    z = []\n",
    "    \n",
    "    for i in range(1024 * 512):\n",
    "        z.append(0)\n",
    "    \n",
    "    for i in range(1024):\n",
    "        # TODO / ?\n",
    "        r = XOF(seed, (624*64)//8, Dl)\n",
    "        Dl += 1\n",
    "        # TODO chunk size????\n",
    "        for j in range(512):\n",
    "            # TODO / ?\n",
    "            sign = r[j]//(2^(78-1))\n",
    "            \n",
    "            # TODO remove bits\n",
    "            val = r[j]\n",
    "            \n",
    "            for k in range(78):\n",
    "                # TODO condition4\n",
    "                if condition4:\n",
    "                    z[i+j] += 1\n",
    "            \n",
    "            if sign == 1:\n",
    "                z[i+j] = -z[i+j]\n",
    "        \n",
    "        i += c\n",
    "    \n",
    "    return z            "
   ]
  },
  {
   "cell_type": "markdown",
   "id": "relevant-underwear",
   "metadata": {},
   "source": [
    "### Enc"
   ]
  },
  {
   "cell_type": "code",
   "execution_count": 10,
   "id": "chemical-bronze",
   "metadata": {},
   "outputs": [],
   "source": [
    "def Enc(cl):\n",
    "    D = 0\n",
    "    cnt = 0\n",
    "    \n",
    "    r = cSHAKE128(cl, 168, D)\n",
    "    \n",
    "    \n",
    "    c = []\n",
    "    pos_list = []\n",
    "    sign_list = []\n",
    "    for i in range(25):\n",
    "        c.append(0)\n",
    "        pos_list.append(0)\n",
    "        sign_list.append(0)\n",
    "    \n",
    "    i = 0\n",
    "    while i < 25:\n",
    "        if cnt > 168 - 3:\n",
    "            D += 1\n",
    "            cnt = 0\n",
    "            \n",
    "            r = cSHAKE128(cl, 168, D)\n",
    "            \n",
    "        pos = ((r[cnt] * (2^8)) + (r[cnt+1])) % 1024\n",
    "        if c[pos] == 0:\n",
    "            if (r[cnt + 2] % 2) == 1:\n",
    "                c[pos] = -1\n",
    "            else:\n",
    "                c[pos] = 1\n",
    "            pos_list[i] = pos\n",
    "            sign_list[i] = c[pos]\n",
    "            i += 1\n",
    "        \n",
    "        cnt += 3\n",
    "                \n",
    "    return pos_list, sign_list"
   ]
  },
  {
   "cell_type": "markdown",
   "id": "juvenile-annotation",
   "metadata": {},
   "source": [
    "### ySampler"
   ]
  },
  {
   "cell_type": "code",
   "execution_count": 11,
   "id": "particular-zoning",
   "metadata": {},
   "outputs": [],
   "source": [
    "def ySampler(rand, counter):\n",
    "    pos = 0\n",
    "    nl = 1024\n",
    "    Dl = D * (2^8)\n",
    "    b = logb(q,2) / 8\n",
    "    b = b.ceil()\n",
    "    \n",
    "    c = XOF(rand, b*nl, Dl)\n",
    "    \n",
    "    i = 0\n",
    "    y = []\n",
    "    \n",
    "    for i in range(1024):\n",
    "        y[i] = 0\n",
    "    \n",
    "    while i < n:\n",
    "        if pos >= nl:\n",
    "            Dl += 1\n",
    "            pos = 0\n",
    "            nl = 168//b\n",
    "            \n",
    "            c = XOF(rand, 168, Dl)\n",
    "        \n",
    "        x = logb(2^19 - 1,2)\n",
    "        x = x.ceil()\n",
    "        x = 2^(x + 1) - (2^19 - 1)\n",
    "        x = c[pos] % x\n",
    "        y[i] = x\n",
    "        if y[i] != (2^19):\n",
    "            i += 1\n",
    "        pos += 1\n",
    "    return y"
   ]
  },
  {
   "cell_type": "markdown",
   "id": "regional-casting",
   "metadata": {},
   "source": [
    "### H"
   ]
  },
  {
   "cell_type": "code",
   "execution_count": null,
   "id": "burning-england",
   "metadata": {},
   "outputs": [],
   "source": [
    "def H(v, m, t):\n",
    "    w = []\n",
    "    \n",
    "    for i in range((4 * 1024) + 79):\n",
    "        w.append(0)\n",
    "        \n",
    "    for i in range(1, 5):\n",
    "        for j in range(n):\n",
    "            val = v[i][j] % (2^22)\n",
    "            \n",
    "            if val > (2^22) - 1:\n",
    "                val = val - (2^22)\n",
    "            \n",
    "            w[(i - 1)*n+j] = (v[i][j] - val)/(2^22)\n",
    "            \n",
    "            \n",
    "    w1 = G(m)\n",
    "    w2 = G(t)\n",
    "    w = w1 + w2\n",
    "    cl = SHAKE(w, 32)\n",
    "\n",
    "    return cl"
   ]
  },
  {
   "cell_type": "markdown",
   "id": "average-beatles",
   "metadata": {},
   "source": [
    "### checkE"
   ]
  },
  {
   "cell_type": "code",
   "execution_count": 13,
   "id": "stable-prisoner",
   "metadata": {},
   "outputs": [],
   "source": [
    "def checkE(e):\n",
    "    b = maxi(e[0])\n",
    "    for i in range(1, k):\n",
    "        b += maxi(e[i])\n",
    "        \n",
    "    if b > 554:\n",
    "        return 1\n",
    "    return 0"
   ]
  },
  {
   "cell_type": "markdown",
   "id": "supposed-times",
   "metadata": {},
   "source": [
    "### checkS"
   ]
  },
  {
   "cell_type": "code",
   "execution_count": 15,
   "id": "known-venezuela",
   "metadata": {},
   "outputs": [],
   "source": [
    "def checkS(s):\n",
    "    b = maxi(s[0])\n",
    "    for i in range(1, k):\n",
    "        b += maxi(s[i])\n",
    "        \n",
    "    if b > 554:\n",
    "        return 1\n",
    "    return 0"
   ]
  },
  {
   "cell_type": "markdown",
   "id": "virtual-purpose",
   "metadata": {},
   "source": [
    "### maxi\n",
    "Função para ser usada nos dois checks"
   ]
  },
  {
   "cell_type": "code",
   "execution_count": null,
   "id": "standing-binding",
   "metadata": {},
   "outputs": [],
   "source": [
    "def maxi(e):\n",
    "    return 0"
   ]
  },
  {
   "cell_type": "markdown",
   "id": "diagnostic-today",
   "metadata": {},
   "source": [
    "### XOF's\n",
    "Provavelmente não é bem isto o que é pedido."
   ]
  },
  {
   "cell_type": "code",
   "execution_count": null,
   "id": "compliant-transportation",
   "metadata": {},
   "outputs": [],
   "source": [
    "def cSHAKE128(seed, x, D):\n",
    "    digest = hashes.Hash(hashes.SHAKE128(int(x))\n",
    "    digest.update(seed)\n",
    "    return digest.finalize()"
   ]
  },
  {
   "cell_type": "code",
   "execution_count": 33,
   "id": "fixed-polyester",
   "metadata": {},
   "outputs": [],
   "source": [
    "def XOF(seed, x, Dl):\n",
    "    digest = hashes.Hash(hashes.SHAKE128(int(x))\n",
    "    digest.update(seed)\n",
    "    return digest.finalize()"
   ]
  }
 ],
 "metadata": {
  "kernelspec": {
   "display_name": "SageMath 9.2",
   "language": "sage",
   "name": "sagemath"
  },
  "language_info": {
   "codemirror_mode": {
    "name": "ipython",
    "version": 3
   },
   "file_extension": ".py",
   "mimetype": "text/x-python",
   "name": "python",
   "nbconvert_exporter": "python",
   "pygments_lexer": "ipython3",
   "version": "3.7.10"
  }
 },
 "nbformat": 4,
 "nbformat_minor": 5
}
