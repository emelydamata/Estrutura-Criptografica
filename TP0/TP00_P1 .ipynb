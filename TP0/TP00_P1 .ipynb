{
 "cells": [
  {
   "cell_type": "markdown",
   "metadata": {},
   "source": [
    "# Solução Para o Trabalho Prático 00  <h1>"
   ]
  },
  {
   "cell_type": "markdown",
   "metadata": {},
   "source": [
    "## Problema 01:<h3>\n",
    "    \n",
    "1. Conforme solicitado foi implementada uma comunicação entre o Agente Emitter e o Agente Receiver baseada em sockets;\n",
    "\n",
    "2. Usamos o AES no GCM para cifrar e autenticar o conteúdo das nossas mensagens;\n",
    "\n",
    "3. Para a derivação de chave usamos uma password que os Agentes tem de inserir, e fornecêmo-la ao algoritmo PBKDF2HMAC;\n",
    "\n",
    "4. Para autenticar a chave usada para a comunicação usamos um HMAC.\n",
    "\n",
    "*Observação: Considerando que não queremos sobrecarregar este Notebook, iremos omitir os aspectos de comunicação e de input mas se for necessário consultá-los sempre é possível ver o código e a sua documentação.*\n"
   ]
  },
  {
   "cell_type": "markdown",
   "metadata": {},
   "source": [
    "**Funcionamento dos Agentes:**\n",
    "\n",
    "* Imports do que é necessário para correr os Agentes, salientando o uso da package cryptography e de getpass para ler a password inserida no terminal."
   ]
  },
  {
   "cell_type": "code",
   "execution_count": 1,
   "metadata": {},
   "outputs": [],
   "source": [
    "import getpass\n",
    "import socket\n",
    "import os\n",
    "from cryptography.hazmat.primitives.ciphers.aead import AESGCM\n",
    "from cryptography.hazmat.primitives.kdf.pbkdf2 import PBKDF2HMAC\n",
    "from cryptography.hazmat.backends import default_backend\n",
    "from cryptography.hazmat.primitives import hashes, hmac"
   ]
  },
  {
   "cell_type": "markdown",
   "metadata": {},
   "source": [
    "Começando pelas funções em comum entre o Emitter e o Receiver nós temos as seguintes:\n",
    "\n",
    "- pbkdf2Hmac;\n",
    "- mac;\n",
    "\n",
    "A primeira, como o nome indica, está relacionada com o processo de extender a password para uma chave de 256 bits. Esta função usa um salt gerado aleatóriamente pela os.urandom(16) para inicializar o objecto do PBKDF que é usado posteriormente para derivar a chave que nós queremos usando a password.\n"
   ]
  },
  {
   "cell_type": "code",
   "execution_count": 2,
   "metadata": {},
   "outputs": [],
   "source": [
    "def pbkdf2Hmac(self, salt):\n",
    "    kdf = PBKDF2HMAC(\n",
    "        algorithm=hashes.SHA256(),\n",
    "        length=32,\n",
    "        salt=salt,\n",
    "        iterations=100000,\n",
    "        backend=default_backend())\n",
    "    return kdf"
   ]
  },
  {
   "cell_type": "markdown",
   "metadata": {},
   "source": [
    "Esta função usa um segredo e uma mensagem convencionalmente para criar um código de autenticação para a nossa mensagem usando a chave como segredo. Neste caso o propósito do MAC é diferente, nós usamos a password inserida pelo Agente como um segredo e a chave como se fosse a mensagem com o propósito de gerar um código para autenticar a chave que foi usada para cifrar a mensagem. Como não foi especificado, a nossa escolha foi usar o HMAC com o SHA256 para obter o código de autenticação."
   ]
  },
  {
   "cell_type": "code",
   "execution_count": 3,
   "metadata": {},
   "outputs": [],
   "source": [
    "def mac(self, secret, msg):\n",
    "    h = hmac.HMAC(secret, hashes.SHA256(), default_backend())\n",
    "    h.update(msg)\n",
    "    return h.finalize()"
   ]
  },
  {
   "cell_type": "markdown",
   "metadata": {},
   "source": [
    "#### Agente Emitter <h4>\n",
    "\n",
    "Passando para a função exclusiva do Agente Emitter temos:\n",
    "- encrypt\n",
    "    \n",
    "A encrypt usa a chave que foi gerada e um nonce aleatóriamente gerado para cifrar a mensagem inserida usando o AESGCM. Esta função devolve o nonce e o criptograma para uso posterior. Uma nota de importância, não é preciso fazer mais nada para depois autenticarmos a mensagem no receiver porque o criptograma devolvido AESGCM tem uma tag de 16 bytes anexada no fim.\n"
   ]
  },
  {
   "cell_type": "code",
   "execution_count": 4,
   "metadata": {},
   "outputs": [],
   "source": [
    "def encrypt(self, key, msg):\n",
    "    nonce = os.urandom(12)\n",
    "    aes_gcm = AESGCM(key)\n",
    "    ct = aes_gcm.encrypt(nonce, msg, None)\n",
    "    return nonce, ct"
   ]
  },
  {
   "cell_type": "markdown",
   "metadata": {},
   "source": [
    "#### Agente Receiver <h4>\n",
    "\n",
    "Agora para o caso do Receiver temos:\n",
    "- validate_key \n",
    "- decrypt\n",
    "    \n",
    "A validate_key pega na chave que foi gerada no Receiver, na password inserida no Receiver e no key_mac recebido na mensagem vinda do Emitter. Se o key_mac coincidir com o mac da chave do Receiver então a chave é válida."
   ]
  },
  {
   "cell_type": "code",
   "execution_count": 5,
   "metadata": {},
   "outputs": [],
   "source": [
    "def validate_key(self, key, password, key_mac):\n",
    "    our_key_mac = self.mac(key, password)\n",
    "    return our_key_mac == key_mac"
   ]
  },
  {
   "cell_type": "markdown",
   "metadata": {},
   "source": [
    "A decrypt pega na chave, no nonce recebido e no criptograma (que vem com a sua própria tag) e usa o AESGCM para decifrar o criptograma. Se este processo funcionar é porque não houve problemas e temos o nosso texto limpo. Se houveram problemas é porque a tag não consegue validar a mensagem."
   ]
  },
  {
   "cell_type": "code",
   "execution_count": 6,
   "metadata": {},
   "outputs": [],
   "source": [
    "def decrypt(self, key, nonce, ct_and_tag):\n",
    "    aesgcm = AESGCM(key)\n",
    "    try:\n",
    "        limpo = aesgcm.decrypt(nonce, ct_and_tag, None)\n",
    "        return limpo\n",
    "    except:\n",
    "        return 'Autenticacao Falhou'"
   ]
  },
  {
   "cell_type": "markdown",
   "metadata": {},
   "source": [
    "#### Execução do Agente Emitter: <h4>\n",
    "\n",
    "Agora vamos ver o corpo de execução do Agente Emitter e dizer passo a passo o que foi feito que não foi coberto acima. Após estabelecer a comunicação, inicia-se o fluxo:\n",
    "    \n",
    "1. Primeiro pedimos ao Agente para inserir uma password. Depois geramos um salt seguro para usos criptográficos para ser usado na derivação da chave.\n",
    "    \n",
    "2. Depois derivamos a chave usando a password depois de inicializar o PBKDF com o salt acima mencionado. Como temos a chave podemos calcular o MAC dela para ser usado posteriormente.\n",
    "    \n",
    "3. Agora pedimos ao Agente para inserir uma mensagem para ser enviada para o Receiver. \n",
    "    \n",
    "4. Quando já temos a mensagem tratamos de a cifrar usando a função encrypt. \n",
    " \n",
    "5. Finalmente, juntamos o salt para a PBKDF, o MAC da chave, o nonce para o AESGCM e o criptograma e enviamos tudo para o Receiver.\n",
    "    \n",
    "_Algo que devemos salientar é que o nonce que usamos tem de ser enviado para o Receiver junto com a mensagem, uma alternativa para isto seria usando um counter em ambos os lados. O nonce é enviado às claras e não há problema, desde que o mesmo nonce nunca seja repetido para a mesma chave, mas tendo o uso de uma password e a geração aleatória do nonce nós não nos preocupamos em verificar se o mesmo nonce é gerado duas vezes, tendo em conta o teor deste exercício._  \n"
   ]
  },
  {
   "cell_type": "code",
   "execution_count": null,
   "metadata": {},
   "outputs": [],
   "source": [
    "password = self.requestPassWord()\n",
    "salt = os.urandom(16)\n",
    "key = self.pbkdf2Hmac(salt).derive(password)\n",
    "key_mac = self.mac(key, password)\n",
    "msg = self.ask_message()\n",
    "\n",
    "try:\n",
    "    nonce, ciphertext_and_tag = self.encrypt(key, msg)\n",
    "    bundle = salt + key_mac + nonce + ciphertext_and_tag\n",
    "    self.conn.send(bundle)\n",
    "    print('Mensagem Enviada')\n",
    "except:\n",
    "    print(\"Erro na Comunicacao\\n\")\n",
    "    self.finish()"
   ]
  },
  {
   "cell_type": "markdown",
   "metadata": {},
   "source": [
    "#### Execução do Agente Receiver: <h4>\n",
    "\n",
    "Agora vamos analizar o corpo de execução de cada ligação no Agente Receiver.\n",
    "    \n",
    "1. Primeiro pedimos a password ao Agente.\n",
    "    \n",
    "2. Depois recebemos a mensagem vinda do Emitter e se não houver um problema tratamos de a processar. Os primeiros 16 bytes são para o salt, os 32 a seguir são para o MAC da chave, os 12 depois desses são para o nonce do AESGCM e o resto é para o criptograma. \n",
    "    \n",
    "3. Usando a nossa password e o salt que recebemos nós calculamos a chave para decifrar este criptograma. Mas antes de o decifrar temos de autenticar a chave com a nossa password e o salt recebido, garantindo que não é possível forjar esta autenticação ao mudar o salt do criptograma a menos que se saiba a password. \n",
    "    \n",
    "4. Depois da validação com sucesso nós deciframos o criptograma, que mesmo assim pode não ter uma tag válida e o Receiver é avisado dessa situação."
   ]
  },
  {
   "cell_type": "code",
   "execution_count": null,
   "metadata": {},
   "outputs": [],
   "source": [
    "password = self.requestPassWord()\n",
    "msg = adrr.recv(lim)\n",
    "if not msg:\n",
    "    print('Nenhuma Mensagem Recebida!\\n')\n",
    "    break\n",
    "else:\n",
    "    salt = msg[0:16]\n",
    "    key_mac = msg[16:48]\n",
    "    nonce = msg[48:60]\n",
    "    ciphertext = msg[60:]\n",
    "\n",
    "    key = self.pbkdf2Hmac(salt).derive(password)\n",
    "\n",
    "    try:\n",
    "        if self.validate_key(key, password, key_mac):\n",
    "            plain_text = self.decrypt(key, nonce, ciphertext)\n",
    "            print('Mensagem Recebida:\\n', plain_text.decode())\n",
    "        else:\n",
    "            print('Falha de Autenticacao')\n",
    "        except:\n",
    "            print('Comunicacao Corrompida...')\n",
    "            self.finish(self.conn)"
   ]
  }
 ],
 "metadata": {
  "kernelspec": {
   "display_name": "Python 3",
   "language": "python",
   "name": "python3"
  },
  "language_info": {
   "codemirror_mode": {
    "name": "ipython",
    "version": 3
   },
   "file_extension": ".py",
   "mimetype": "text/x-python",
   "name": "python",
   "nbconvert_exporter": "python",
   "pygments_lexer": "ipython3",
   "version": "3.8.5"
  }
 },
 "nbformat": 4,
 "nbformat_minor": 4
}
