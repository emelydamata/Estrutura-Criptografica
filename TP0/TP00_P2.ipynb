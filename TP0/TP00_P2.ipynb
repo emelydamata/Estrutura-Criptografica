{
 "cells": [
  {
   "cell_type": "markdown",
   "metadata": {},
   "source": [
    "**Solução Para o Trabalho Prático 0**"
   ]
  },
  {
   "cell_type": "markdown",
   "metadata": {},
   "source": [
    "**Problema 02:**\n",
    "    \n",
    "1. Usamos uma XOF e um PRG para fazer um pad que consiste em 2^N palavras de 64 bits.\n",
    "\n",
    "2. Como pedido usamos a password como seed para o PRG.\n",
    "\n",
    "3. Para cifrar ou decifrar fazemos um XOR como no caso do One Time Pad.\n",
    "\n",
    "_Observação: Além do que foi mencionado para o problema 1, neste problema não há autenticação._    "
   ]
  },
  {
   "cell_type": "markdown",
   "metadata": {},
   "source": [
    "**Funcionamento dos Agentes:**\n",
    "\n",
    "* Imports do que é necessário para correr os Agentes, salientando o uso da package cryptography para o SHAKE."
   ]
  },
  {
   "cell_type": "code",
   "execution_count": 1,
   "metadata": {},
   "outputs": [],
   "source": [
    "import getpass\n",
    "import socket\n",
    "import math\n",
    "from cryptography.hazmat.backends import default_backend\n",
    "from cryptography.hazmat.primitives import hashes"
   ]
  },
  {
   "cell_type": "markdown",
   "metadata": {},
   "source": [
    "O Receiver e o Emitter usam as mesmas funções para a comunicação entre eles. \n",
    "\n",
    "* A primeira é a shake que é responsável por criar uma string longa com 2^N * 8 (bytes) de tamanho para servir de pad."
   ]
  },
  {
   "cell_type": "code",
   "execution_count": 2,
   "metadata": {},
   "outputs": [],
   "source": [
    "def shake(self, size, password):\n",
    "    digest = hashes.Hash(hashes.SHAKE256(size), default_backend())\n",
    "    digest.update(password)\n",
    "    return digest.finalize()"
   ]
  },
  {
   "cell_type": "markdown",
   "metadata": {},
   "source": [
    "Tendo o pad maior esta função separa o pad num array de palavras (neste caso longs)."
   ]
  },
  {
   "cell_type": "code",
   "execution_count": 3,
   "metadata": {},
   "outputs": [],
   "source": [
    "def split(self, pad):\n",
    "    n = 8\n",
    "    len_pad = len(pad)\n",
    "    x = [pad[i:i + n] for i in range(0, len_pad, n)]\n",
    "    return x"
   ]
  },
  {
   "cell_type": "markdown",
   "metadata": {},
   "source": [
    "A função xor faz XOR do pad com a mensagem. É de salientar a variável word que conta em que palavra é que vamos para nos certificarmos que não repetimos a mesma palavra duas vezes."
   ]
  },
  {
   "cell_type": "code",
   "execution_count": 4,
   "metadata": {},
   "outputs": [],
   "source": [
    "def xor(self, pad, message):\n",
    "    size = len(message)\n",
    "    xored = bytearray(size)\n",
    "    word = self.counter\n",
    "    position = 0\n",
    "    for i in range(size):\n",
    "        xored[i] = pad[word][position] ^ message[i]\n",
    "        position += 1\n",
    "        if position == 8:\n",
    "            word += 1\n",
    "            position = 0\n",
    "    return xored"
   ]
  },
  {
   "cell_type": "markdown",
   "metadata": {},
   "source": [
    "**Execução do Agente Emitter:**\n",
    "\n",
    "\n",
    "1. Inicialmente perguntamos qual é o valor desejado para o N, este valor tem de coincidir em ambos os agentes.\n",
    "\n",
    "2. Depois disso calculamos o número total de palavras a gerar com a password que é pedida logo a seguir. Tendo N e a password usamos a shake para gerar o pad e a split para dividir o pad em palavras. \n",
    "\n",
    "3. Agora, para cada mensagem inserida verificamos se ela é maior que o pad e a nossa decisão é que embora fosse possível criar tantos pads quanto necessários para acomodar a mensagem nós decidimos que seria melhor impor um limite máximo.\n",
    "\n",
    "4. A seguir verificamos se o tamanho da mensagem faz com que seja necessário criar um pad novo, e se for, o resto por utilizar deste pad é descartado e geramos um pad novo. \n",
    "\n",
    "5. Depois disto é só fazer o XOR do pad com a mensagem e enviá-la, atualizando o counter tendo em conta o tamanho da mensagem.\n",
    "    \n",
    "_É de salientar o uso da math.ceil nestes casos que faz com que não usemos as mesmas palavras duas vezes, por exemplo se usarmos 32 bits de uma palavra não vamos voltar a usar essa palavra, mas também não vamos usar o resto dos 32 bits._"
   ]
  },
  {
   "cell_type": "code",
   "execution_count": null,
   "metadata": {},
   "outputs": [],
   "source": [
    "n = int(input(\"N?\\n\"))\n",
    "lim = pow(2, n)\n",
    "self.establish_connection()\n",
    "password = self.requestPassWord()\n",
    "pad = self.shake(lim * 8, password)\n",
    "pad_words = self.split(pad)\n",
    "while True:\n",
    "    msg = self.ask_message()\n",
    "    msg_size = len(msg)\n",
    "    if msg_size < int(lim*8):\n",
    "        try:\n",
    "            if (self.counter + math.ceil(msg_size / 8)) > lim:\n",
    "                password = self.requestPassWord()\n",
    "                pad = self.shake(lim * 8, password)\n",
    "                pad_words = self.split(pad)\n",
    "                self.counter = 0\n",
    "            ciphertext = self.xor(pad_words, msg)\n",
    "            self.counter += math.ceil(msg_size / 8)\n",
    "            if len(ciphertext) > 0:\n",
    "                self.conn.send(ciphertext)\n",
    "                print('Mensagem Enviada')\n",
    "            else:\n",
    "                self.finish()\n",
    "        except:\n",
    "            print(\"Erro na Comunicacao\\n\")\n",
    "    else:\n",
    "        print(\"Mensagem demasiado grande\\n\")\n",
    "        self.finish()"
   ]
  },
  {
   "cell_type": "markdown",
   "metadata": {},
   "source": [
    "**Execução do Agente Receiver:**\n",
    "\n",
    " O Receiver funciona exatamente como o Emitter, mas em vez de se inserir uma mensagem nós recebêmo-la pela socket."
   ]
  },
  {
   "cell_type": "code",
   "execution_count": null,
   "metadata": {},
   "outputs": [],
   "source": [
    "Self.establish_connection()\n",
    "i = 0\n",
    "while i < 1:\n",
    "    n = int(input(\"N?\\n\"))\n",
    "    lim = pow(2, n)\n",
    "    adrr, emitter = self.conn.accept()\n",
    "    print(\"Ligado a: \", emitter)\n",
    "    i += 1\n",
    "    password = self.requestPassWord()\n",
    "    pad = self.shake(lim * 8, password)\n",
    "    pad_words = self.split(pad)\n",
    "    while True:\n",
    "        msg = adrr.recv(lim*8)\n",
    "        msg_size = len(msg)\n",
    "        if (self.counter + math.ceil(msg_size/8)) > lim:\n",
    "            password = self.requestPassWord()\n",
    "            pad = self.shake(lim * 8, password)\n",
    "            pad_words = self.split(pad)\n",
    "            self.counter = 0\n",
    "        if not msg:\n",
    "            print('Nenhuma Mensagem Recebida!\\n')\n",
    "            break\n",
    "        else:\n",
    "            cleantext = self.xor(pad_words, msg)\n",
    "            self.counter += math.ceil(msg_size/8)\n",
    "            print(cleantext.decode())\n",
    "    self.finish(self.conn)"
   ]
  },
  {
   "cell_type": "markdown",
   "metadata": {},
   "source": [
    "**Alínea 2.C:**\n",
    "\n",
    "Não achamos que seja necessário fazer um grande número de medições nem outros tipos de estudos à lá Performance Engineer, mas sim podemos olhar de um ponto de vista mais removido para os dois algoritmos com que estamos a trabalhar. <br>\n",
    "\n",
    "O gargalo do segundo algoritmo é gerar o pad, enquanto que o gargalo do primeiro pode ser o facto de que por mensagem temos de gerar uma chave, o código de autenticação para ela e cifrar o criptograma para o caso do Emitter ou então no caso do Receiver que tem o trabalho adicional de autenticar a chave que foi recebida. <br>\n",
    "\n",
    "Tendo isto podemos imaginar facilmente que num cenário em que temos um grande número de mensagens trocadas e um N grande, a situação em que o segundo algoritmo passa pelo gargalo é rara o suficiente para o segundo algoritmo ser mais rápido que o segundo. <br>\n",
    "\n",
    "A diferença é clara o suficiente para se poder demonstrar que o segundo algoritmo é mais rápido on demand, algo que pode ser feito facilmente na apresentação."
   ]
  }
 ],
 "metadata": {
  "kernelspec": {
   "display_name": "Python 3",
   "language": "python",
   "name": "python3"
  },
  "language_info": {
   "codemirror_mode": {
    "name": "ipython",
    "version": 3
   },
   "file_extension": ".py",
   "mimetype": "text/x-python",
   "name": "python",
   "nbconvert_exporter": "python",
   "pygments_lexer": "ipython3",
   "version": "3.8.5"
  }
 },
 "nbformat": 4,
 "nbformat_minor": 4
}
