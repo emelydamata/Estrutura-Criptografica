{
 "cells": [
  {
   "cell_type": "markdown",
   "metadata": {},
   "source": [
    "Solução para o Trabalho Prático 0 - Problema 1:\n",
    "\n",
    "- Como nos foi pedido nós implementamos um Agente Emitter que comunica com um Agente Receiver usando sockets.\n",
    "\n",
    "- No problema 1 usamos o AES no GCM para cifrar e autenticar o conteúdo das nossas mensagens.\n",
    "\n",
    "- Para a derivarmos uma chave, usamos uma password que o Agente tem de inserir, e fornecêmo-la ao algoritmo PBKDF2HMAC.\n",
    "\n",
    "- Para autenticar a chave usada para a comunicação usamos um HMAC.\n",
    "\n",
    "- Observação: Considerando que não queremos sobrecarregar este Notebook, iremos omitir os aspectos de comunicação e de imput mas se for necessário consultá-los sempre é possível ver o código e a sua documentação. "
   ]
  },
  {
   "cell_type": "markdown",
   "metadata": {},
   "source": [
    "Imports do que é necessário para correr os Agentes, salientando o uso da package cryptography e de getpass para ler a password inserida no terminal."
   ]
  },
  {
   "cell_type": "code",
   "execution_count": 7,
   "metadata": {},
   "outputs": [],
   "source": [
    "import getpass\n",
    "import socket\n",
    "import os\n",
    "from cryptography.hazmat.primitives.ciphers.aead import AESGCM\n",
    "from cryptography.hazmat.primitives.kdf.pbkdf2 import PBKDF2HMAC\n",
    "from cryptography.hazmat.backends import default_backend\n",
    "from cryptography.hazmat.primitives import hashes, hmac"
   ]
  },
  {
   "cell_type": "markdown",
   "metadata": {},
   "source": [
    "Começando pelas funções em comum entre o Emitter e o Receiver nós temos as seguintes:\n",
    "    - pbkdf2Hmac;\n",
    "    - mac;\n",
    "A primeira, como o nome indica, está relacionada com o processo de extender a password para uma chave de 256 bits.\n",
    "Esta função usa um salt gerado aleatóriamente pela os.urandom(16) para inicializar o objecto do PBKDF que é usado posteriormente para derivar a chave que nós queremos usando a password. "
   ]
  },
  {
   "cell_type": "code",
   "execution_count": 8,
   "metadata": {},
   "outputs": [],
   "source": [
    "def pbkdf2Hmac(self, salt):\n",
    "    kdf = PBKDF2HMAC(\n",
    "        algorithm=hashes.SHA256(),\n",
    "        length=32,\n",
    "        salt=salt,\n",
    "        iterations=100000,\n",
    "        backend=default_backend())\n",
    "    return kdf"
   ]
  },
  {
   "cell_type": "markdown",
   "metadata": {},
   "source": [
    "Esta função usa um segredo e uma mensagem convencionalmente para criar um código de autenticação para a nossa mensagem usando a chave como segredo.\n",
    "Neste caso o propósito do MAC é diferente, nós usamos a password inserida pelo Agente como um segredo e a chave como se fosse a mensagem com o propósito de gerar um código para autenticar a chave que foi usada para cifrar a mensagem.\n",
    "Como não foi especificado, a nossa escolha foi usar o HMAC com o SHA256 para obter o código de autenticação."
   ]
  },
  {
   "cell_type": "code",
   "execution_count": 9,
   "metadata": {},
   "outputs": [],
   "source": [
    "def mac(self, secret, msg):\n",
    "    h = hmac.HMAC(secret, hashes.SHA256(), default_backend())\n",
    "    h.update(msg)\n",
    "    return h.finalize()"
   ]
  },
  {
   "cell_type": "markdown",
   "metadata": {},
   "source": [
    "Passando para a função exclusiva ao Agente Emitter temos a encrypt.\n",
    "A encrypt usa a chave que foi gerada e um nonce aleatóriamente gerado para cifrar a mensagem inserida usando o AESGCM.\n",
    "Esta função devolve o nonce e o criptograma para uso posterior.\n",
    "Uma nota de importância, não é preciso fazer mais nada para depois autenticarmos a mensagem no receiver porque o criptograma devolvido AESGCM tem uma tag de 16 bytes anexada no fim."
   ]
  },
  {
   "cell_type": "code",
   "execution_count": 10,
   "metadata": {},
   "outputs": [],
   "source": [
    "def encrypt(self, key, msg):\n",
    "    nonce = os.urandom(12)\n",
    "    aes_gcm = AESGCM(key)\n",
    "    ct = aes_gcm.encrypt(nonce, msg, None)\n",
    "    return nonce, ct"
   ]
  },
  {
   "cell_type": "markdown",
   "metadata": {},
   "source": [
    "Agora para o caso do Receiver temos duas, a validate_key e a decrypt.\n",
    "A validate_key pega na chave que foi gerada no Receiver, na password inserida no Receiver e no key_mac recebido na mensagem vinda do Emitter.\n",
    "Se o key_mac coincidir com o mac da chave do Receiver então a chave é válida. "
   ]
  },
  {
   "cell_type": "code",
   "execution_count": 11,
   "metadata": {},
   "outputs": [],
   "source": [
    "def validate_key(self, key, password, key_mac):\n",
    "    our_key_mac = self.mac(key, password)\n",
    "    return our_key_mac == key_mac"
   ]
  },
  {
   "cell_type": "markdown",
   "metadata": {},
   "source": [
    "A decrypt pega na chave, no nonce recebido e no criptograma (que vem com a sua própria tag) e usa o AESGCM para decifrar o criptograma.\n",
    "Se este processo funcionar é porque não houve problemas e temos o nosso texto limpo.\n",
    "Se houveram problemas é porque a tag não consegue validar a mensagem."
   ]
  },
  {
   "cell_type": "code",
   "execution_count": 12,
   "metadata": {},
   "outputs": [],
   "source": [
    "def decrypt(self, key, nonce, ct_and_tag):\n",
    "    aesgcm = AESGCM(key)\n",
    "    try:\n",
    "        limpo = aesgcm.decrypt(nonce, ct_and_tag, None)\n",
    "        return limpo\n",
    "    except:\n",
    "        return 'Autenticacao Falhou'"
   ]
  },
  {
   "cell_type": "markdown",
   "metadata": {},
   "source": [
    "Agora vamos ver o corpo de execução do Agente Emitter e dizer passo a passo o que foi feito que não foi coberto acima.\n",
    "Depois de se establecer a comunicação nós entramos neste ciclo.\n",
    "Primeiro pedimos para o Agente inserir uma password.\n",
    "Depois geramos um salt seguro para usos criptográficos para ser usado na derivação da chave.\n",
    "Depois derivamos a chave usando a password depois de inicializar o PBKDF com o salt acima mencionado.\n",
    "Como temos a chave podemos calcular o MAC dela para ser usado posteriormente.\n",
    "Agora pedimos ao Agente para inserir uma mensagem para ser enviada para o Receiver.\n",
    "Quando já temos a mensagem tratamos de a cifrar usando a função encrypt.\n",
    "Algo que devemos salientar é que o nonce que usamos tem de ser enviado para o Receiver junto com a mensagem, uma alternativa para isto seria usando um counter em ambos os lados na forma de um counter. O nonce é enviado às claras e não há problema, desde que o mesmo nonce nunca seja repetido para a mesma chave, mas tendo o uso de uma password e a geração aleatória do nonce nós não nos preocupamos em verificar se o mesmo nonce é gerado duas vezes.\n",
    "Finalmente, juntamos o salt para a PBKDF, o MAC da chave, o nonce para o AESGCM e o criptograma e enviamos tudo para o Receiver."
   ]
  },
  {
   "cell_type": "code",
   "execution_count": null,
   "metadata": {},
   "outputs": [],
   "source": [
    "password = self.requestPassWord()\n",
    "salt = os.urandom(16)\n",
    "key = self.pbkdf2Hmac(salt).derive(password)\n",
    "key_mac = self.mac(key, password)\n",
    "msg = self.ask_message()\n",
    "\n",
    "try:\n",
    "    nonce, ciphertext_and_tag = self.encrypt(key, msg)\n",
    "    bundle = salt + key_mac + nonce + ciphertext_and_tag\n",
    "    self.conn.send(bundle)\n",
    "    print('Mensagem Enviada')\n",
    "except:\n",
    "    print(\"Erro na Comunicacao\\n\")\n",
    "    self.finish()"
   ]
  },
  {
   "cell_type": "markdown",
   "metadata": {},
   "source": [
    "Agora vamos analizar o corpo de execução de cada ligação no Agente Receiver\n",
    "Primeiro pedimos a password ao Agente.\n",
    "Depois recevemos a mensagem vinda do emitter, e se não houver um problema tratamos de a processar.\n",
    "Os primeiros 16 bytes são para o salt, os 32 a seguir são para o MAC da chave, os 12 depois desses são para o nonce do AESGCM e o resto é para o criptograma.\n",
    "Usando a nossa password e o salt que recebemos nós calculamos a chave para decifrar este criptograma.\n",
    "Mas antes de decifrar temos de autenticar a chave com a nossa password e o salt recebido, garantindo que não é possível forjar esta autenticação ao mudar o salt do criptograma a menos que se saiba a password.\n",
    "Depois da validação com sucesso nós deciframos o criptograma, que mesmo assim pode não ter uma tag válida e o Receiver é avisado dessa situação."
   ]
  },
  {
   "cell_type": "code",
   "execution_count": null,
   "metadata": {},
   "outputs": [],
   "source": [
    "password = self.requestPassWord()\n",
    "msg = adrr.recv(lim)\n",
    "if not msg:\n",
    "    print('Nenhuma Mensagem Recebida!\\n')\n",
    "    break\n",
    "else:\n",
    "    salt = msg[0:16]\n",
    "    key_mac = msg[16:48]\n",
    "    nonce = msg[48:60]\n",
    "    ciphertext = msg[60:]\n",
    "\n",
    "    key = self.pbkdf2Hmac(salt).derive(password)\n",
    "\n",
    "    try:\n",
    "        if self.validate_key(key, password, key_mac):\n",
    "            plain_text = self.decrypt(key, nonce, ciphertext)\n",
    "            print('Mensagem Recebida:\\n', plain_text.decode())\n",
    "        else:\n",
    "            print('Falha de Autenticacao')\n",
    "        except:\n",
    "            print('Comunicacao Corrompida...')\n",
    "            self.finish(self.conn)"
   ]
  },
  {
   "cell_type": "markdown",
   "metadata": {},
   "source": [
    "Problema 2:\n",
    "\n",
    "- No problema 2 usamos uma XOF e um PRG para fazer um pad que consiste em 2^N palavras de 64 bits. \n",
    "\n",
    "- Como pedido usamos a password como seed para o PRG.\n",
    "\n",
    "- Para cifrar ou decifrar fazemos um XOR como no caso do One Time Pad.\n",
    "\n",
    "- Observação: Além do que foi mencionado para o problema 1, neste problema não há autenticação. "
   ]
  },
  {
   "cell_type": "markdown",
   "metadata": {},
   "source": [
    "Imports do que é necessário para correr os Agentes, salientando o uso da package cryptography para o SHAKE."
   ]
  },
  {
   "cell_type": "code",
   "execution_count": null,
   "metadata": {},
   "outputs": [],
   "source": [
    "import getpass\n",
    "import socket\n",
    "import math\n",
    "from cryptography.hazmat.backends import default_backend\n",
    "from cryptography.hazmat.primitives import hashes"
   ]
  },
  {
   "cell_type": "markdown",
   "metadata": {},
   "source": [
    "O Receiver e o Emitter usam as mesmas funções para a comunicação entre eles.\n",
    "A primeira é a shake que é responsável por criar uma string longa com 2^N * 8 (bytes) de tamanho para servir de pad."
   ]
  },
  {
   "cell_type": "code",
   "execution_count": null,
   "metadata": {},
   "outputs": [],
   "source": [
    "def shake(self, size, password):\n",
    "    digest = hashes.Hash(hashes.SHAKE256(size), default_backend())\n",
    "    digest.update(password)\n",
    "    return digest.finalize()"
   ]
  },
  {
   "cell_type": "markdown",
   "metadata": {},
   "source": [
    "Tendo o pad maior esta função separa o pad num array de palavras."
   ]
  },
  {
   "cell_type": "code",
   "execution_count": null,
   "metadata": {},
   "outputs": [],
   "source": [
    "def split(self, pad):\n",
    "    n = 8\n",
    "    len_pad = len(pad)\n",
    "    x = [pad[i:i + n] for i in range(0, len_pad, n)]\n",
    "    return x"
   ]
  },
  {
   "cell_type": "markdown",
   "metadata": {},
   "source": [
    "A função xor faz XOR do pad com a mensagem. \n",
    "É de salientar a variável word que conta em que palavra é que vamos para nos certificarmos que não repetimos a mesma palavra duas vezes."
   ]
  },
  {
   "cell_type": "code",
   "execution_count": null,
   "metadata": {},
   "outputs": [],
   "source": [
    "def xor(self, pad, message):\n",
    "    size = len(message)\n",
    "    xored = bytearray(size)\n",
    "    word = self.counter\n",
    "    position = 0\n",
    "    for i in range(size):\n",
    "        xored[i] = pad[word][position] ^ message[i]\n",
    "        position += 1\n",
    "        if position == 8:\n",
    "            word += 1\n",
    "            position = 0\n",
    "    return xored"
   ]
  },
  {
   "cell_type": "markdown",
   "metadata": {},
   "source": [
    "Agora vamos ver o corpo de execução do Agente Emitter.\n",
    "Inicialmente perguntamos qual é o valor desejado para o N, este valor tem de coincidir em ambos os agentes.\n",
    "Depois disso calculamos o número total de palavras a gerar com a password que é pedida logo a seguir.\n",
    "Tendo N e a password usamos a shake para gerar o pad e a split para dividir o pad em palavras.\n",
    "Agora, para cada mensagem inserida verificamos se ela é maior que o pad e a nossa decisão é que embora fosse possível criar tantos pads quanto necessários para acomodar a mensagem nós decidimos que seria melhor impor um limite máximo.\n",
    "A seguir verificamos se o tamanho da mensagem faz com que seja necessário criar um pad novo, e se for, o resto por utilizar deste pad é descartado e geramos um pad novo. É de salientar o uso da math.ceil nestes casos que faz com que não usemos as mesmas palavras duas vezes, por exemplo se usarmos 32 bits de uma palavra não vamos voltar a usar essa palavra, mas também não vamos usar o resto dos 32 bits.\n",
    "Depois disto é só fazer o XOR do pad com a mensagem e enviá-la, atualizando o counter tendo em conta o tamanho da mensagem."
   ]
  },
  {
   "cell_type": "code",
   "execution_count": null,
   "metadata": {},
   "outputs": [],
   "source": [
    "n = int(input(\"N?\\n\"))\n",
    "lim = pow(2, n)\n",
    "self.establish_connection()\n",
    "password = self.requestPassWord()\n",
    "pad = self.shake(lim * 8, password)\n",
    "pad_words = self.split(pad)\n",
    "while True:\n",
    "    msg = self.ask_message()\n",
    "    msg_size = len(msg)\n",
    "    if msg_size < int(lim*8):\n",
    "        try:\n",
    "            if (self.counter + math.ceil(msg_size / 8)) > lim:\n",
    "                password = self.requestPassWord()\n",
    "                pad = self.shake(lim * 8, password)\n",
    "                pad_words = self.split(pad)\n",
    "                self.counter = 0\n",
    "            ciphertext = self.xor(pad_words, msg)\n",
    "            self.counter += math.ceil(msg_size / 8)\n",
    "            if len(ciphertext) > 0:\n",
    "                self.conn.send(ciphertext)\n",
    "                print('Mensagem Enviada')\n",
    "            else:\n",
    "                self.finish()\n",
    "        except:\n",
    "            print(\"Erro na Comunicacao\\n\")\n",
    "    else:\n",
    "        print(\"Mensagem demasiado grande\\n\")\n",
    "        self.finish()"
   ]
  },
  {
   "cell_type": "markdown",
   "metadata": {},
   "source": [
    "Agora vamos ver o corpo de execução do Receiver.\n",
    "O Receiver funciona exatamente como o Emitter, mas em vez de se inserir uma mensagem nós recebêmo-la pela socket.\n"
   ]
  },
  {
   "cell_type": "code",
   "execution_count": null,
   "metadata": {},
   "outputs": [],
   "source": [
    "self.establish_connection()\n",
    "i = 0\n",
    "while i < 1:\n",
    "    n = int(input(\"N?\\n\"))\n",
    "    lim = pow(2, n)\n",
    "    adrr, emitter = self.conn.accept()\n",
    "    print(\"Ligado a: \", emitter)\n",
    "    i += 1\n",
    "    password = self.requestPassWord()\n",
    "    pad = self.shake(lim * 8, password)\n",
    "    pad_words = self.split(pad)\n",
    "    while True:\n",
    "        msg = adrr.recv(lim*8)\n",
    "        msg_size = len(msg)\n",
    "        if (self.counter + math.ceil(msg_size/8)) > lim:\n",
    "            password = self.requestPassWord()\n",
    "            pad = self.shake(lim * 8, password)\n",
    "            pad_words = self.split(pad)\n",
    "            self.counter = 0\n",
    "        if not msg:\n",
    "            print('Nenhuma Mensagem Recebida!\\n')\n",
    "            break\n",
    "        else:\n",
    "            cleantext = self.xor(pad_words, msg)\n",
    "            self.counter += math.ceil(msg_size/8)\n",
    "            print(cleantext.decode())\n",
    "    self.finish(self.conn)"
   ]
  },
  {
   "cell_type": "markdown",
   "metadata": {},
   "source": [
    "Respondendo à alínea 2.C, não achamos que seja necessário fazer um grande número de medições nem outros tipos de estudos à lá Performance Engineer, mas sim podemos olhar de um ponto de vista mais removido para os dois algoritmos com que estamos a trabalhar. \n",
    "O gargalo do segundo algoritmo é gerar o pad, enquanto que o gargalo do primeiro pode ser o facto de que por mensagem temos de gerar uma chave, o código de autenticação para ela e cifrar o criptograma para o caso do Emitter ou então no caso do Receiver que tem o trabalho adicional de autenticar a chave que foi recebida.\n",
    "Tendo isto podemos imaginar facilmente que num cenário em que temos um grande número de mensagens trocadas e um N grande, a situação em que o segundo algoritmo passa pelo gargalo é rara o suficiente para o segundo algoritmo ser mais rápido que o segundo.\n",
    "A diferença é clara o suficiente para se poder demonstrar que o segundo algoritmo é mais rápido on demand, algo que pode ser feito facilmente na apresentação."
   ]
  }
 ],
 "metadata": {
  "kernelspec": {
   "display_name": "Python 3",
   "language": "python",
   "name": "python3"
  },
  "language_info": {
   "codemirror_mode": {
    "name": "ipython",
    "version": 3
   },
   "file_extension": ".py",
   "mimetype": "text/x-python",
   "name": "python",
   "nbconvert_exporter": "python",
   "pygments_lexer": "ipython3",
   "version": "3.8.5"
  }
 },
 "nbformat": 4,
 "nbformat_minor": 4
}
